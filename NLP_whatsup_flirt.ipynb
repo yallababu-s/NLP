{
 "cells": [
  {
   "cell_type": "code",
   "execution_count": 2,
   "id": "cf28bf66-38d9-4c12-82c7-7a2cd7430c9b",
   "metadata": {},
   "outputs": [
    {
     "name": "stdout",
     "output_type": "stream",
     "text": [
      "# packages in environment at C:\\Users\\hp\\anaconda3\\envs\\vnlp:\n",
      "#\n",
      "# Name                    Version                   Build  Channel\n",
      "anyio                     4.8.0                    pypi_0    pypi\n",
      "argon2-cffi               23.1.0                   pypi_0    pypi\n",
      "argon2-cffi-bindings      21.2.0                   pypi_0    pypi\n",
      "arrow                     1.3.0                    pypi_0    pypi\n",
      "asttokens                 3.0.0                    pypi_0    pypi\n",
      "async-lru                 2.0.4                    pypi_0    pypi\n",
      "attrs                     25.1.0                   pypi_0    pypi\n",
      "babel                     2.16.0                   pypi_0    pypi\n",
      "beautifulsoup4            4.12.3                   pypi_0    pypi\n",
      "bleach                    6.2.0                    pypi_0    pypi\n",
      "brotli-python             1.0.9           py312h5da7b33_9  \n",
      "bzip2                     1.0.8                h2bbff1b_6  \n",
      "ca-certificates           2024.12.31           haa95532_0  \n",
      "certifi                   2024.12.14      py312haa95532_0  \n",
      "cffi                      1.17.1                   pypi_0    pypi\n",
      "charset-normalizer        3.3.2              pyhd3eb1b0_0  \n",
      "colorama                  0.4.6                    pypi_0    pypi\n",
      "comm                      0.2.2                    pypi_0    pypi\n",
      "debugpy                   1.8.12                   pypi_0    pypi\n",
      "decorator                 5.1.1                    pypi_0    pypi\n",
      "defusedxml                0.7.1                    pypi_0    pypi\n",
      "executing                 2.2.0                    pypi_0    pypi\n",
      "expat                     2.6.4                h8ddb27b_0  \n",
      "fastjsonschema            2.21.1                   pypi_0    pypi\n",
      "fqdn                      1.5.1                    pypi_0    pypi\n",
      "h11                       0.14.0                   pypi_0    pypi\n",
      "httpcore                  1.0.7                    pypi_0    pypi\n",
      "httpx                     0.28.1                   pypi_0    pypi\n",
      "idna                      3.7             py312haa95532_0  \n",
      "ipykernel                 6.29.5                   pypi_0    pypi\n",
      "ipython                   8.31.0                   pypi_0    pypi\n",
      "ipywidgets                8.1.5                    pypi_0    pypi\n",
      "isoduration               20.11.0                  pypi_0    pypi\n",
      "jedi                      0.19.2                   pypi_0    pypi\n",
      "jinja2                    3.1.5                    pypi_0    pypi\n",
      "json5                     0.10.0                   pypi_0    pypi\n",
      "jsonpointer               3.0.0                    pypi_0    pypi\n",
      "jsonschema                4.23.0                   pypi_0    pypi\n",
      "jsonschema-specifications 2024.10.1                pypi_0    pypi\n",
      "jupyter                   1.1.1                    pypi_0    pypi\n",
      "jupyter-client            8.6.3                    pypi_0    pypi\n",
      "jupyter-console           6.6.3                    pypi_0    pypi\n",
      "jupyter-core              5.7.2                    pypi_0    pypi\n",
      "jupyter-events            0.11.0                   pypi_0    pypi\n",
      "jupyter-lsp               2.2.5                    pypi_0    pypi\n",
      "jupyter-server            2.15.0                   pypi_0    pypi\n",
      "jupyter-server-terminals  0.5.3                    pypi_0    pypi\n",
      "jupyterlab                4.3.5                    pypi_0    pypi\n",
      "jupyterlab-pygments       0.3.0                    pypi_0    pypi\n",
      "jupyterlab-server         2.27.3                   pypi_0    pypi\n",
      "jupyterlab-widgets        3.0.13                   pypi_0    pypi\n",
      "libffi                    3.4.4                hd77b12b_1  \n",
      "markupsafe                3.0.2                    pypi_0    pypi\n",
      "matplotlib-inline         0.1.7                    pypi_0    pypi\n",
      "mistune                   3.1.1                    pypi_0    pypi\n",
      "nbclient                  0.10.2                   pypi_0    pypi\n",
      "nbconvert                 7.16.6                   pypi_0    pypi\n",
      "nbformat                  5.10.4                   pypi_0    pypi\n",
      "nest-asyncio              1.6.0                    pypi_0    pypi\n",
      "notebook                  7.3.2                    pypi_0    pypi\n",
      "notebook-shim             0.2.4                    pypi_0    pypi\n",
      "openssl                   3.0.15               h827c3e9_0  \n",
      "overrides                 7.7.0                    pypi_0    pypi\n",
      "packaging                 24.2                     pypi_0    pypi\n",
      "pandocfilters             1.5.1                    pypi_0    pypi\n",
      "parso                     0.8.4                    pypi_0    pypi\n",
      "pip                       25.0            py312haa95532_0  \n",
      "platformdirs              4.3.6                    pypi_0    pypi\n",
      "prometheus-client         0.21.1                   pypi_0    pypi\n",
      "prompt-toolkit            3.0.50                   pypi_0    pypi\n",
      "psutil                    6.1.1                    pypi_0    pypi\n",
      "pure-eval                 0.2.3                    pypi_0    pypi\n",
      "pycparser                 2.22                     pypi_0    pypi\n",
      "pygments                  2.19.1                   pypi_0    pypi\n",
      "pysocks                   1.7.1           py312haa95532_0  \n",
      "python                    3.12.8               h14ffc60_0  \n",
      "python-dateutil           2.9.0.post0              pypi_0    pypi\n",
      "python-json-logger        3.2.1                    pypi_0    pypi\n",
      "pywin32                   308                      pypi_0    pypi\n",
      "pywinpty                  2.0.14                   pypi_0    pypi\n",
      "pyyaml                    6.0.2                    pypi_0    pypi\n",
      "pyzmq                     26.2.1                   pypi_0    pypi\n",
      "referencing               0.36.2                   pypi_0    pypi\n",
      "requests                  2.31.0          py312haa95532_1  \n",
      "rfc3339-validator         0.1.4                    pypi_0    pypi\n",
      "rfc3986-validator         0.1.1                    pypi_0    pypi\n",
      "rpds-py                   0.22.3                   pypi_0    pypi\n",
      "send2trash                1.8.3                    pypi_0    pypi\n",
      "setuptools                75.8.0          py312haa95532_0  \n",
      "six                       1.17.0                   pypi_0    pypi\n",
      "sniffio                   1.3.1                    pypi_0    pypi\n",
      "soupsieve                 2.6                      pypi_0    pypi\n",
      "sqlite                    3.45.3               h2bbff1b_0  \n",
      "stack-data                0.6.3                    pypi_0    pypi\n",
      "terminado                 0.18.1                   pypi_0    pypi\n",
      "tinycss2                  1.4.0                    pypi_0    pypi\n",
      "tk                        8.6.14               h0416ee5_0  \n",
      "tornado                   6.4.2                    pypi_0    pypi\n",
      "traitlets                 5.14.3                   pypi_0    pypi\n",
      "types-python-dateutil     2.9.0.20241206           pypi_0    pypi\n",
      "typing-extensions         4.12.2                   pypi_0    pypi\n",
      "tzdata                    2025a                h04d1e81_0  \n",
      "uri-template              1.3.0                    pypi_0    pypi\n",
      "urllib3                   2.3.0           py312haa95532_0  \n",
      "vc                        14.40                haa95532_2  \n",
      "vs2015_runtime            14.42.34433          h9531ae6_2  \n",
      "wcwidth                   0.2.13                   pypi_0    pypi\n",
      "webcolors                 24.11.1                  pypi_0    pypi\n",
      "webencodings              0.5.1                    pypi_0    pypi\n",
      "websocket-client          1.8.0                    pypi_0    pypi\n",
      "wheel                     0.45.1          py312haa95532_0  \n",
      "widgetsnbextension        4.0.13                   pypi_0    pypi\n",
      "win_inet_pton             1.1.0           py312haa95532_0  \n",
      "xz                        5.4.6                h8cc25b3_1  \n",
      "zlib                      1.2.13               h8cc25b3_1  \n",
      "\n",
      "Note: you may need to restart the kernel to use updated packages.\n"
     ]
    }
   ],
   "source": [
    "conda list"
   ]
  },
  {
   "cell_type": "code",
   "execution_count": 3,
   "id": "11bd3701-7e96-4da0-8a2c-f95365de3736",
   "metadata": {},
   "outputs": [
    {
     "name": "stdout",
     "output_type": "stream",
     "text": [
      "Collecting pandas\n",
      "  Using cached pandas-2.2.3-cp312-cp312-win_amd64.whl.metadata (19 kB)\n",
      "Collecting numpy>=1.26.0 (from pandas)\n",
      "  Using cached numpy-2.2.2-cp312-cp312-win_amd64.whl.metadata (60 kB)\n",
      "Requirement already satisfied: python-dateutil>=2.8.2 in c:\\users\\hp\\anaconda3\\envs\\vnlp\\lib\\site-packages (from pandas) (2.9.0.post0)\n",
      "Collecting pytz>=2020.1 (from pandas)\n",
      "  Downloading pytz-2025.1-py2.py3-none-any.whl.metadata (22 kB)\n",
      "Collecting tzdata>=2022.7 (from pandas)\n",
      "  Using cached tzdata-2025.1-py2.py3-none-any.whl.metadata (1.4 kB)\n",
      "Requirement already satisfied: six>=1.5 in c:\\users\\hp\\anaconda3\\envs\\vnlp\\lib\\site-packages (from python-dateutil>=2.8.2->pandas) (1.17.0)\n",
      "Using cached pandas-2.2.3-cp312-cp312-win_amd64.whl (11.5 MB)\n",
      "Using cached numpy-2.2.2-cp312-cp312-win_amd64.whl (12.6 MB)\n",
      "Downloading pytz-2025.1-py2.py3-none-any.whl (507 kB)\n",
      "Using cached tzdata-2025.1-py2.py3-none-any.whl (346 kB)\n",
      "Installing collected packages: pytz, tzdata, numpy, pandas\n",
      "Successfully installed numpy-2.2.2 pandas-2.2.3 pytz-2025.1 tzdata-2025.1\n"
     ]
    }
   ],
   "source": [
    "!pip install pandas"
   ]
  },
  {
   "cell_type": "code",
   "execution_count": 4,
   "id": "40121621-a266-4cdb-a098-e15a375cb155",
   "metadata": {},
   "outputs": [],
   "source": [
    "import pandas as pd"
   ]
  },
  {
   "cell_type": "code",
   "execution_count": 5,
   "id": "e473306d-d496-4b04-b408-955137252da3",
   "metadata": {},
   "outputs": [],
   "source": [
    "df = pd.read_csv(\"filtered_chat.csv\")"
   ]
  },
  {
   "cell_type": "code",
   "execution_count": null,
   "id": "22e9c373-0418-4e35-8c6e-96f7c38bba80",
   "metadata": {},
   "outputs": [],
   "source": [
    "#df = pd.read_csv(\"mabel.txt\",header=None,error_bad_lines=False,encoding='utf8')"
   ]
  },
  {
   "cell_type": "code",
   "execution_count": null,
   "id": "ca30ef60-d106-487d-9f68-9afdb5867554",
   "metadata": {},
   "outputs": [],
   "source": [
    "#df = pd.read_csv(\"Whatsppp_chat.txt\", header=None, on_bad_lines='skip', encoding='utf8')\n",
    "\n"
   ]
  },
  {
   "cell_type": "code",
   "execution_count": 6,
   "id": "ceb665a6-f593-4aab-8329-eebe35728320",
   "metadata": {},
   "outputs": [
    {
     "data": {
      "text/html": [
       "<div>\n",
       "<style scoped>\n",
       "    .dataframe tbody tr th:only-of-type {\n",
       "        vertical-align: middle;\n",
       "    }\n",
       "\n",
       "    .dataframe tbody tr th {\n",
       "        vertical-align: top;\n",
       "    }\n",
       "\n",
       "    .dataframe thead th {\n",
       "        text-align: right;\n",
       "    }\n",
       "</style>\n",
       "<table border=\"1\" class=\"dataframe\">\n",
       "  <thead>\n",
       "    <tr style=\"text-align: right;\">\n",
       "      <th></th>\n",
       "      <th>11/5/24</th>\n",
       "      <th>9:08 PM - Messages and calls are end-to-end encrypted. No one outside of this chat</th>\n",
       "    </tr>\n",
       "  </thead>\n",
       "  <tbody>\n",
       "    <tr>\n",
       "      <th>0</th>\n",
       "      <td>11/5/24</td>\n",
       "      <td>9:08 PM - babusanagari: Hi Yogana</td>\n",
       "    </tr>\n",
       "    <tr>\n",
       "      <th>1</th>\n",
       "      <td>This is Babu (Sanagari Yallababu) new member &lt;...</td>\n",
       "      <td>NaN</td>\n",
       "    </tr>\n",
       "    <tr>\n",
       "      <th>2</th>\n",
       "      <td>11/5/24</td>\n",
       "      <td>9:14 PM - Yogana AI Dought Clarification Hope...</td>\n",
       "    </tr>\n",
       "    <tr>\n",
       "      <th>3</th>\n",
       "      <td>This number is dedicated to helping you with d...</td>\n",
       "      <td>NaN</td>\n",
       "    </tr>\n",
       "    <tr>\n",
       "      <th>4</th>\n",
       "      <td>Additionally</td>\n",
       "      <td>please use this number</td>\n",
       "    </tr>\n",
       "    <tr>\n",
       "      <th>5</th>\n",
       "      <td>11/5/24</td>\n",
       "      <td>9:14 PM - babusanagari: Thankyou</td>\n",
       "    </tr>\n",
       "    <tr>\n",
       "      <th>6</th>\n",
       "      <td>11/5/24</td>\n",
       "      <td>9:15 PM - Yogana AI Dought Clarification Hope...</td>\n",
       "    </tr>\n",
       "    <tr>\n",
       "      <th>7</th>\n",
       "      <td>11/5/24</td>\n",
       "      <td>9:38 PM - babusanagari: Tomorrow my birthday ...</td>\n",
       "    </tr>\n",
       "    <tr>\n",
       "      <th>8</th>\n",
       "      <td>11/5/24</td>\n",
       "      <td>9:48 PM - Yogana AI Dought Clarification Hope...</td>\n",
       "    </tr>\n",
       "    <tr>\n",
       "      <th>9</th>\n",
       "      <td>11/6/24</td>\n",
       "      <td>11:35 AM - babusanagari: https://github.com/y...</td>\n",
       "    </tr>\n",
       "    <tr>\n",
       "      <th>10</th>\n",
       "      <td>11/6/24</td>\n",
       "      <td>11:35 AM - babusanagari: please helpme to how...</td>\n",
       "    </tr>\n",
       "    <tr>\n",
       "      <th>11</th>\n",
       "      <td>11/6/24</td>\n",
       "      <td>11:36 AM - babusanagari: Please correct me AI</td>\n",
       "    </tr>\n",
       "    <tr>\n",
       "      <th>12</th>\n",
       "      <td>11/6/24</td>\n",
       "      <td>11:37 AM - babusanagari: &lt;Media omitted&gt;</td>\n",
       "    </tr>\n",
       "    <tr>\n",
       "      <th>13</th>\n",
       "      <td>11/6/24</td>\n",
       "      <td>11:50 AM - Yogana AI Dought Clarification Hop...</td>\n",
       "    </tr>\n",
       "    <tr>\n",
       "      <th>14</th>\n",
       "      <td>11/6/24</td>\n",
       "      <td>11:51 AM - Yogana AI Dought Clarification Hop...</td>\n",
       "    </tr>\n",
       "    <tr>\n",
       "      <th>15</th>\n",
       "      <td>11/6/24</td>\n",
       "      <td>11:52 AM - babusanagari: Old course I Informe...</td>\n",
       "    </tr>\n",
       "    <tr>\n",
       "      <th>16</th>\n",
       "      <td>11/6/24</td>\n",
       "      <td>11:55 AM - Yogana AI Dought Clarification Hop...</td>\n",
       "    </tr>\n",
       "    <tr>\n",
       "      <th>17</th>\n",
       "      <td>11/6/24</td>\n",
       "      <td>12:01 PM - babusanagari: Already i updated 3 ...</td>\n",
       "    </tr>\n",
       "    <tr>\n",
       "      <th>18</th>\n",
       "      <td>Please check and suggest me how to add GitHub ...</td>\n",
       "      <td>NaN</td>\n",
       "    </tr>\n",
       "    <tr>\n",
       "      <th>19</th>\n",
       "      <td>11/6/24</td>\n",
       "      <td>12:01 PM - babusanagari: .</td>\n",
       "    </tr>\n",
       "  </tbody>\n",
       "</table>\n",
       "</div>"
      ],
      "text/plain": [
       "                                              11/5/24  \\\n",
       "0                                             11/5/24   \n",
       "1   This is Babu (Sanagari Yallababu) new member <...   \n",
       "2                                             11/5/24   \n",
       "3   This number is dedicated to helping you with d...   \n",
       "4                                        Additionally   \n",
       "5                                             11/5/24   \n",
       "6                                             11/5/24   \n",
       "7                                             11/5/24   \n",
       "8                                             11/5/24   \n",
       "9                                             11/6/24   \n",
       "10                                            11/6/24   \n",
       "11                                            11/6/24   \n",
       "12                                            11/6/24   \n",
       "13                                            11/6/24   \n",
       "14                                            11/6/24   \n",
       "15                                            11/6/24   \n",
       "16                                            11/6/24   \n",
       "17                                            11/6/24   \n",
       "18  Please check and suggest me how to add GitHub ...   \n",
       "19                                            11/6/24   \n",
       "\n",
       "    9:08 PM - Messages and calls are end-to-end encrypted. No one outside of this chat  \n",
       "0                  9:08 PM - babusanagari: Hi Yogana                                    \n",
       "1                                                 NaN                                   \n",
       "2    9:14 PM - Yogana AI Dought Clarification Hope...                                   \n",
       "3                                                 NaN                                   \n",
       "4                              please use this number                                   \n",
       "5                    9:14 PM - babusanagari: Thankyou                                   \n",
       "6    9:15 PM - Yogana AI Dought Clarification Hope...                                   \n",
       "7    9:38 PM - babusanagari: Tomorrow my birthday ...                                   \n",
       "8    9:48 PM - Yogana AI Dought Clarification Hope...                                   \n",
       "9    11:35 AM - babusanagari: https://github.com/y...                                   \n",
       "10   11:35 AM - babusanagari: please helpme to how...                                   \n",
       "11      11:36 AM - babusanagari: Please correct me AI                                   \n",
       "12           11:37 AM - babusanagari: <Media omitted>                                   \n",
       "13   11:50 AM - Yogana AI Dought Clarification Hop...                                   \n",
       "14   11:51 AM - Yogana AI Dought Clarification Hop...                                   \n",
       "15   11:52 AM - babusanagari: Old course I Informe...                                   \n",
       "16   11:55 AM - Yogana AI Dought Clarification Hop...                                   \n",
       "17   12:01 PM - babusanagari: Already i updated 3 ...                                   \n",
       "18                                                NaN                                   \n",
       "19                         12:01 PM - babusanagari: .                                   "
      ]
     },
     "execution_count": 6,
     "metadata": {},
     "output_type": "execute_result"
    }
   ],
   "source": [
    "df.head(20)"
   ]
  },
  {
   "cell_type": "code",
   "execution_count": 7,
   "id": "3ef5b330-5427-47a3-abbf-caa1d8d8e025",
   "metadata": {},
   "outputs": [],
   "source": [
    "df=df.drop(0)"
   ]
  },
  {
   "cell_type": "code",
   "execution_count": 8,
   "id": "492b0ca4-5215-49c9-9774-04ebeffb34dc",
   "metadata": {},
   "outputs": [],
   "source": [
    "df.columns=['date','chat']"
   ]
  },
  {
   "cell_type": "code",
   "execution_count": 9,
   "id": "6dbb99ed-2946-43b5-bc19-434a12c7c666",
   "metadata": {},
   "outputs": [
    {
     "data": {
      "text/html": [
       "<div>\n",
       "<style scoped>\n",
       "    .dataframe tbody tr th:only-of-type {\n",
       "        vertical-align: middle;\n",
       "    }\n",
       "\n",
       "    .dataframe tbody tr th {\n",
       "        vertical-align: top;\n",
       "    }\n",
       "\n",
       "    .dataframe thead th {\n",
       "        text-align: right;\n",
       "    }\n",
       "</style>\n",
       "<table border=\"1\" class=\"dataframe\">\n",
       "  <thead>\n",
       "    <tr style=\"text-align: right;\">\n",
       "      <th></th>\n",
       "      <th>0</th>\n",
       "      <th>1</th>\n",
       "    </tr>\n",
       "  </thead>\n",
       "  <tbody>\n",
       "    <tr>\n",
       "      <th>1</th>\n",
       "      <td>NaN</td>\n",
       "      <td>NaN</td>\n",
       "    </tr>\n",
       "    <tr>\n",
       "      <th>2</th>\n",
       "      <td>Yogana AI Dought Clarification Hope AI</td>\n",
       "      <td>Hello</td>\n",
       "    </tr>\n",
       "    <tr>\n",
       "      <th>3</th>\n",
       "      <td>NaN</td>\n",
       "      <td>NaN</td>\n",
       "    </tr>\n",
       "    <tr>\n",
       "      <th>4</th>\n",
       "      <td>None</td>\n",
       "      <td>None</td>\n",
       "    </tr>\n",
       "    <tr>\n",
       "      <th>5</th>\n",
       "      <td>babusanagari</td>\n",
       "      <td>Thankyou</td>\n",
       "    </tr>\n",
       "  </tbody>\n",
       "</table>\n",
       "</div>"
      ],
      "text/plain": [
       "                                         0          1\n",
       "1                                      NaN        NaN\n",
       "2   Yogana AI Dought Clarification Hope AI      Hello\n",
       "3                                      NaN        NaN\n",
       "4                                     None       None\n",
       "5                             babusanagari   Thankyou"
      ]
     },
     "execution_count": 9,
     "metadata": {},
     "output_type": "execute_result"
    }
   ],
   "source": [
    "time=df['chat'].str.split('-',n=1,expand=True)\n",
    "time.columns=['time','namechat']\n",
    "name=time['namechat'].str.split(':',n=1,expand=True)\n",
    "name.head()"
   ]
  },
  {
   "cell_type": "code",
   "execution_count": 10,
   "id": "f6dab34f-3f80-480c-8a21-27c1768578a2",
   "metadata": {},
   "outputs": [
    {
     "data": {
      "text/html": [
       "<div>\n",
       "<style scoped>\n",
       "    .dataframe tbody tr th:only-of-type {\n",
       "        vertical-align: middle;\n",
       "    }\n",
       "\n",
       "    .dataframe tbody tr th {\n",
       "        vertical-align: top;\n",
       "    }\n",
       "\n",
       "    .dataframe thead th {\n",
       "        text-align: right;\n",
       "    }\n",
       "</style>\n",
       "<table border=\"1\" class=\"dataframe\">\n",
       "  <thead>\n",
       "    <tr style=\"text-align: right;\">\n",
       "      <th></th>\n",
       "      <th>name</th>\n",
       "      <th>chat</th>\n",
       "    </tr>\n",
       "  </thead>\n",
       "  <tbody>\n",
       "    <tr>\n",
       "      <th>1</th>\n",
       "      <td>NaN</td>\n",
       "      <td>NaN</td>\n",
       "    </tr>\n",
       "    <tr>\n",
       "      <th>2</th>\n",
       "      <td>Yogana AI Dought Clarification Hope AI</td>\n",
       "      <td>Hello</td>\n",
       "    </tr>\n",
       "    <tr>\n",
       "      <th>3</th>\n",
       "      <td>NaN</td>\n",
       "      <td>NaN</td>\n",
       "    </tr>\n",
       "    <tr>\n",
       "      <th>4</th>\n",
       "      <td>None</td>\n",
       "      <td>None</td>\n",
       "    </tr>\n",
       "    <tr>\n",
       "      <th>5</th>\n",
       "      <td>babusanagari</td>\n",
       "      <td>Thankyou</td>\n",
       "    </tr>\n",
       "  </tbody>\n",
       "</table>\n",
       "</div>"
      ],
      "text/plain": [
       "                                      name       chat\n",
       "1                                      NaN        NaN\n",
       "2   Yogana AI Dought Clarification Hope AI      Hello\n",
       "3                                      NaN        NaN\n",
       "4                                     None       None\n",
       "5                             babusanagari   Thankyou"
      ]
     },
     "execution_count": 10,
     "metadata": {},
     "output_type": "execute_result"
    }
   ],
   "source": [
    "name.columns=['name','chat']\n",
    "name.head()"
   ]
  },
  {
   "cell_type": "code",
   "execution_count": 11,
   "id": "1fda16b2-611c-4ca4-8014-abb5b401e645",
   "metadata": {},
   "outputs": [
    {
     "data": {
      "text/html": [
       "<div>\n",
       "<style scoped>\n",
       "    .dataframe tbody tr th:only-of-type {\n",
       "        vertical-align: middle;\n",
       "    }\n",
       "\n",
       "    .dataframe tbody tr th {\n",
       "        vertical-align: top;\n",
       "    }\n",
       "\n",
       "    .dataframe thead th {\n",
       "        text-align: right;\n",
       "    }\n",
       "</style>\n",
       "<table border=\"1\" class=\"dataframe\">\n",
       "  <thead>\n",
       "    <tr style=\"text-align: right;\">\n",
       "      <th></th>\n",
       "      <th>date</th>\n",
       "      <th>chat</th>\n",
       "      <th>time</th>\n",
       "      <th>name</th>\n",
       "    </tr>\n",
       "  </thead>\n",
       "  <tbody>\n",
       "    <tr>\n",
       "      <th>1</th>\n",
       "      <td>This is Babu (Sanagari Yallababu) new member &lt;...</td>\n",
       "      <td>NaN</td>\n",
       "      <td>NaN</td>\n",
       "      <td>NaN</td>\n",
       "    </tr>\n",
       "    <tr>\n",
       "      <th>2</th>\n",
       "      <td>11/5/24</td>\n",
       "      <td>Hello</td>\n",
       "      <td>9:14 PM</td>\n",
       "      <td>Yogana AI Dought Clarification Hope AI</td>\n",
       "    </tr>\n",
       "    <tr>\n",
       "      <th>3</th>\n",
       "      <td>This number is dedicated to helping you with d...</td>\n",
       "      <td>NaN</td>\n",
       "      <td>NaN</td>\n",
       "      <td>NaN</td>\n",
       "    </tr>\n",
       "    <tr>\n",
       "      <th>4</th>\n",
       "      <td>Additionally</td>\n",
       "      <td>None</td>\n",
       "      <td>please use this number</td>\n",
       "      <td>None</td>\n",
       "    </tr>\n",
       "    <tr>\n",
       "      <th>5</th>\n",
       "      <td>11/5/24</td>\n",
       "      <td>Thankyou</td>\n",
       "      <td>9:14 PM</td>\n",
       "      <td>babusanagari</td>\n",
       "    </tr>\n",
       "  </tbody>\n",
       "</table>\n",
       "</div>"
      ],
      "text/plain": [
       "                                                date       chat  \\\n",
       "1  This is Babu (Sanagari Yallababu) new member <...        NaN   \n",
       "2                                            11/5/24      Hello   \n",
       "3  This number is dedicated to helping you with d...        NaN   \n",
       "4                                       Additionally       None   \n",
       "5                                            11/5/24   Thankyou   \n",
       "\n",
       "                      time                                     name  \n",
       "1                      NaN                                      NaN  \n",
       "2                 9:14 PM    Yogana AI Dought Clarification Hope AI  \n",
       "3                      NaN                                      NaN  \n",
       "4   please use this number                                     None  \n",
       "5                 9:14 PM                              babusanagari  "
      ]
     },
     "execution_count": 11,
     "metadata": {},
     "output_type": "execute_result"
    }
   ],
   "source": [
    "#df=df.drop('chat')\n",
    "df['time']=time['time']\n",
    "df['name']=name['name']\n",
    "df['chat']=name['chat']\n",
    "df.head()"
   ]
  },
  {
   "cell_type": "code",
   "execution_count": 12,
   "id": "251854b3-b280-48df-aa68-560bb46d0e52",
   "metadata": {},
   "outputs": [
    {
     "data": {
      "text/html": [
       "<div>\n",
       "<style scoped>\n",
       "    .dataframe tbody tr th:only-of-type {\n",
       "        vertical-align: middle;\n",
       "    }\n",
       "\n",
       "    .dataframe tbody tr th {\n",
       "        vertical-align: top;\n",
       "    }\n",
       "\n",
       "    .dataframe thead th {\n",
       "        text-align: right;\n",
       "    }\n",
       "</style>\n",
       "<table border=\"1\" class=\"dataframe\">\n",
       "  <thead>\n",
       "    <tr style=\"text-align: right;\">\n",
       "      <th></th>\n",
       "      <th>date</th>\n",
       "      <th>time</th>\n",
       "      <th>name</th>\n",
       "      <th>chat</th>\n",
       "    </tr>\n",
       "  </thead>\n",
       "  <tbody>\n",
       "    <tr>\n",
       "      <th>1</th>\n",
       "      <td>This is Babu (Sanagari Yallababu) new member &lt;...</td>\n",
       "      <td>NaN</td>\n",
       "      <td>NaN</td>\n",
       "      <td>NaN</td>\n",
       "    </tr>\n",
       "    <tr>\n",
       "      <th>2</th>\n",
       "      <td>11/5/24</td>\n",
       "      <td>9:14 PM</td>\n",
       "      <td>Yogana AI Dought Clarification Hope AI</td>\n",
       "      <td>Hello</td>\n",
       "    </tr>\n",
       "    <tr>\n",
       "      <th>3</th>\n",
       "      <td>This number is dedicated to helping you with d...</td>\n",
       "      <td>NaN</td>\n",
       "      <td>NaN</td>\n",
       "      <td>NaN</td>\n",
       "    </tr>\n",
       "    <tr>\n",
       "      <th>4</th>\n",
       "      <td>Additionally</td>\n",
       "      <td>please use this number</td>\n",
       "      <td>None</td>\n",
       "      <td>None</td>\n",
       "    </tr>\n",
       "    <tr>\n",
       "      <th>5</th>\n",
       "      <td>11/5/24</td>\n",
       "      <td>9:14 PM</td>\n",
       "      <td>babusanagari</td>\n",
       "      <td>Thankyou</td>\n",
       "    </tr>\n",
       "  </tbody>\n",
       "</table>\n",
       "</div>"
      ],
      "text/plain": [
       "                                                date                     time  \\\n",
       "1  This is Babu (Sanagari Yallababu) new member <...                      NaN   \n",
       "2                                            11/5/24                 9:14 PM    \n",
       "3  This number is dedicated to helping you with d...                      NaN   \n",
       "4                                       Additionally   please use this number   \n",
       "5                                            11/5/24                 9:14 PM    \n",
       "\n",
       "                                      name       chat  \n",
       "1                                      NaN        NaN  \n",
       "2   Yogana AI Dought Clarification Hope AI      Hello  \n",
       "3                                      NaN        NaN  \n",
       "4                                     None       None  \n",
       "5                             babusanagari   Thankyou  "
      ]
     },
     "execution_count": 12,
     "metadata": {},
     "output_type": "execute_result"
    }
   ],
   "source": [
    "df=df[['date','time','name','chat']]\n",
    "df.head()"
   ]
  },
  {
   "cell_type": "code",
   "execution_count": 13,
   "id": "c56fb931-8ced-40b6-8529-2723c0ddcb42",
   "metadata": {},
   "outputs": [
    {
     "name": "stdout",
     "output_type": "stream",
     "text": [
      "<class 'pandas.core.frame.DataFrame'>\n",
      "RangeIndex: 4703 entries, 1 to 4703\n",
      "Data columns (total 4 columns):\n",
      " #   Column  Non-Null Count  Dtype \n",
      "---  ------  --------------  ----- \n",
      " 0   date    4703 non-null   object\n",
      " 1   time    3277 non-null   object\n",
      " 2   name    2947 non-null   object\n",
      " 3   chat    2937 non-null   object\n",
      "dtypes: object(4)\n",
      "memory usage: 147.1+ KB\n"
     ]
    }
   ],
   "source": [
    "df.info()"
   ]
  },
  {
   "cell_type": "code",
   "execution_count": 16,
   "id": "f3863fa2-d707-4e46-a254-703846e3f78d",
   "metadata": {},
   "outputs": [
    {
     "name": "stdout",
     "output_type": "stream",
     "text": [
      "Collecting package metadata (current_repodata.json): ...working... done\n",
      "Note: you may need to restart the kernel to use updated packages.\n",
      "\n",
      "Solving environment: ...working... done\n",
      "\n",
      "## Package Plan ##\n",
      "\n",
      "  environment location: C:\\Users\\hp\\anaconda3\\envs\\vnlp\n",
      "\n",
      "  added / updated specs:\n",
      "    - nltk\n",
      "\n",
      "\n",
      "The following packages will be downloaded:\n",
      "\n",
      "    package                    |            build\n",
      "    ---------------------------|-----------------\n",
      "    ca-certificates-2025.1.31  |       h56e8100_0         155 KB  conda-forge\n",
      "    ------------------------------------------------------------\n",
      "                                           Total:         155 KB\n",
      "\n",
      "The following NEW packages will be INSTALLED:\n",
      "\n",
      "  click              conda-forge/noarch::click-8.1.8-pyh7428d3b_0 \n",
      "  colorama           conda-forge/noarch::colorama-0.4.6-pyhd8ed1ab_1 \n",
      "  joblib             conda-forge/noarch::joblib-1.4.2-pyhd8ed1ab_1 \n",
      "  nltk               conda-forge/noarch::nltk-3.9.1-pyhd8ed1ab_1 \n",
      "  regex              pkgs/main/win-64::regex-2024.11.6-py312h827c3e9_0 \n",
      "  tqdm               conda-forge/noarch::tqdm-4.67.1-pyhd8ed1ab_1 \n",
      "\n",
      "The following packages will be UPDATED:\n",
      "\n",
      "  ca-certificates    pkgs/main::ca-certificates-2024.12.31~ --> conda-forge::ca-certificates-2025.1.31-h56e8100_0 \n",
      "\n",
      "The following packages will be SUPERSEDED by a higher-priority channel:\n",
      "\n",
      "  certifi            pkgs/main/win-64::certifi-2024.12.14-~ --> conda-forge/noarch::certifi-2024.12.14-pyhd8ed1ab_0 \n",
      "\n",
      "\n",
      "\n",
      "Downloading and Extracting Packages\n",
      "\n",
      "ca-certificates-2025 | 155 KB    |            |   0% \n",
      "ca-certificates-2025 | 155 KB    | #          |  10% \n",
      "ca-certificates-2025 | 155 KB    | ########## | 100% \n",
      "ca-certificates-2025 | 155 KB    | ########## | 100% \n",
      "                                                     \n",
      "\n",
      "\n",
      "Preparing transaction: ...working... done\n",
      "Verifying transaction: ...working... done\n",
      "Executing transaction: ...working... done\n"
     ]
    },
    {
     "name": "stderr",
     "output_type": "stream",
     "text": [
      "DEBUG:urllib3.connectionpool:Starting new HTTPS connection (1): repo.anaconda.com:443\n",
      "DEBUG:urllib3.connectionpool:Starting new HTTPS connection (1): repo.anaconda.com:443\n",
      "DEBUG:urllib3.connectionpool:Starting new HTTPS connection (1): repo.anaconda.com:443\n",
      "DEBUG:urllib3.connectionpool:Starting new HTTPS connection (1): conda.anaconda.org:443\n",
      "DEBUG:urllib3.connectionpool:Starting new HTTPS connection (1): conda.anaconda.org:443\n",
      "DEBUG:urllib3.connectionpool:Starting new HTTPS connection (1): repo.anaconda.com:443\n",
      "DEBUG:urllib3.connectionpool:Starting new HTTPS connection (1): repo.anaconda.com:443\n",
      "DEBUG:urllib3.connectionpool:Starting new HTTPS connection (1): repo.anaconda.com:443\n",
      "DEBUG:urllib3.connectionpool:https://repo.anaconda.com:443 \"GET /pkgs/main/win-64/current_repodata.json HTTP/1.1\" 304 0\n",
      "DEBUG:urllib3.connectionpool:https://repo.anaconda.com:443 \"GET /pkgs/main/noarch/current_repodata.json HTTP/1.1\" 304 0\n",
      "DEBUG:urllib3.connectionpool:https://repo.anaconda.com:443 \"GET /pkgs/r/noarch/current_repodata.json HTTP/1.1\" 304 0\n",
      "DEBUG:urllib3.connectionpool:https://repo.anaconda.com:443 \"GET /pkgs/msys2/noarch/current_repodata.json HTTP/1.1\" 304 0\n",
      "DEBUG:urllib3.connectionpool:https://conda.anaconda.org:443 \"GET /conda-forge/noarch/current_repodata.json HTTP/1.1\" 200 None\n",
      "DEBUG:urllib3.connectionpool:https://repo.anaconda.com:443 \"GET /pkgs/r/win-64/current_repodata.json HTTP/1.1\" 304 0\n",
      "DEBUG:urllib3.connectionpool:https://repo.anaconda.com:443 \"GET /pkgs/msys2/win-64/current_repodata.json HTTP/1.1\" 304 0\n",
      "DEBUG:urllib3.connectionpool:https://conda.anaconda.org:443 \"GET /conda-forge/win-64/current_repodata.json HTTP/1.1\" 200 None\n",
      "\n",
      "\n",
      "==> WARNING: A newer version of conda exists. <==\n",
      "  current version: 23.7.4\n",
      "  latest version: 25.1.1\n",
      "\n",
      "Please update conda by running\n",
      "\n",
      "    $ conda update -n base -c defaults conda\n",
      "\n",
      "Or to minimize the number of packages updated during conda update use\n",
      "\n",
      "     conda install conda=25.1.1\n",
      "\n",
      "\n",
      "DEBUG:urllib3.connectionpool:Starting new HTTPS connection (1): conda.anaconda.org:443\n",
      "DEBUG:urllib3.connectionpool:https://conda.anaconda.org:443 \"GET /conda-forge/win-64/ca-certificates-2025.1.31-h56e8100_0.conda HTTP/1.1\" 200 158690\n"
     ]
    }
   ],
   "source": [
    "conda install -c conda-forge nltk"
   ]
  },
  {
   "cell_type": "code",
   "execution_count": 17,
   "id": "93dd6aa8-21a1-4db8-961f-a81bdc024bb6",
   "metadata": {},
   "outputs": [],
   "source": [
    "from nltk.sentiment.vader import SentimentIntensityAnalyzer"
   ]
  },
  {
   "cell_type": "code",
   "execution_count": 18,
   "id": "7a59f47c-e264-4d97-8075-a1cd8751e5b8",
   "metadata": {},
   "outputs": [],
   "source": [
    "dataset=df"
   ]
  },
  {
   "cell_type": "code",
   "execution_count": 19,
   "id": "5d76bcbb-c883-472d-86d6-40bae460db47",
   "metadata": {},
   "outputs": [
    {
     "data": {
      "text/html": [
       "<div>\n",
       "<style scoped>\n",
       "    .dataframe tbody tr th:only-of-type {\n",
       "        vertical-align: middle;\n",
       "    }\n",
       "\n",
       "    .dataframe tbody tr th {\n",
       "        vertical-align: top;\n",
       "    }\n",
       "\n",
       "    .dataframe thead th {\n",
       "        text-align: right;\n",
       "    }\n",
       "</style>\n",
       "<table border=\"1\" class=\"dataframe\">\n",
       "  <thead>\n",
       "    <tr style=\"text-align: right;\">\n",
       "      <th></th>\n",
       "      <th>date</th>\n",
       "      <th>time</th>\n",
       "      <th>name</th>\n",
       "      <th>chat</th>\n",
       "    </tr>\n",
       "  </thead>\n",
       "  <tbody>\n",
       "    <tr>\n",
       "      <th>1</th>\n",
       "      <td>This is Babu (Sanagari Yallababu) new member &lt;...</td>\n",
       "      <td>NaN</td>\n",
       "      <td>NaN</td>\n",
       "      <td>NaN</td>\n",
       "    </tr>\n",
       "    <tr>\n",
       "      <th>2</th>\n",
       "      <td>11/5/24</td>\n",
       "      <td>9:14 PM</td>\n",
       "      <td>Yogana AI Dought Clarification Hope AI</td>\n",
       "      <td>Hello</td>\n",
       "    </tr>\n",
       "    <tr>\n",
       "      <th>3</th>\n",
       "      <td>This number is dedicated to helping you with d...</td>\n",
       "      <td>NaN</td>\n",
       "      <td>NaN</td>\n",
       "      <td>NaN</td>\n",
       "    </tr>\n",
       "    <tr>\n",
       "      <th>4</th>\n",
       "      <td>Additionally</td>\n",
       "      <td>please use this number</td>\n",
       "      <td>None</td>\n",
       "      <td>None</td>\n",
       "    </tr>\n",
       "    <tr>\n",
       "      <th>5</th>\n",
       "      <td>11/5/24</td>\n",
       "      <td>9:14 PM</td>\n",
       "      <td>babusanagari</td>\n",
       "      <td>Thankyou</td>\n",
       "    </tr>\n",
       "  </tbody>\n",
       "</table>\n",
       "</div>"
      ],
      "text/plain": [
       "                                                date                     time  \\\n",
       "1  This is Babu (Sanagari Yallababu) new member <...                      NaN   \n",
       "2                                            11/5/24                 9:14 PM    \n",
       "3  This number is dedicated to helping you with d...                      NaN   \n",
       "4                                       Additionally   please use this number   \n",
       "5                                            11/5/24                 9:14 PM    \n",
       "\n",
       "                                      name       chat  \n",
       "1                                      NaN        NaN  \n",
       "2   Yogana AI Dought Clarification Hope AI      Hello  \n",
       "3                                      NaN        NaN  \n",
       "4                                     None       None  \n",
       "5                             babusanagari   Thankyou  "
      ]
     },
     "execution_count": 19,
     "metadata": {},
     "output_type": "execute_result"
    }
   ],
   "source": [
    "dataset.head()"
   ]
  },
  {
   "cell_type": "code",
   "execution_count": 20,
   "id": "8e6f78c4-465c-42da-8e7a-e2ce5f46146f",
   "metadata": {},
   "outputs": [
    {
     "data": {
      "text/html": [
       "<div>\n",
       "<style scoped>\n",
       "    .dataframe tbody tr th:only-of-type {\n",
       "        vertical-align: middle;\n",
       "    }\n",
       "\n",
       "    .dataframe tbody tr th {\n",
       "        vertical-align: top;\n",
       "    }\n",
       "\n",
       "    .dataframe thead th {\n",
       "        text-align: right;\n",
       "    }\n",
       "</style>\n",
       "<table border=\"1\" class=\"dataframe\">\n",
       "  <thead>\n",
       "    <tr style=\"text-align: right;\">\n",
       "      <th></th>\n",
       "      <th>date</th>\n",
       "      <th>time</th>\n",
       "      <th>name</th>\n",
       "      <th>chat</th>\n",
       "    </tr>\n",
       "  </thead>\n",
       "  <tbody>\n",
       "    <tr>\n",
       "      <th>2</th>\n",
       "      <td>11/5/24</td>\n",
       "      <td>9:14 PM</td>\n",
       "      <td>Yogana AI Dought Clarification Hope AI</td>\n",
       "      <td>Hello</td>\n",
       "    </tr>\n",
       "    <tr>\n",
       "      <th>5</th>\n",
       "      <td>11/5/24</td>\n",
       "      <td>9:14 PM</td>\n",
       "      <td>babusanagari</td>\n",
       "      <td>Thankyou</td>\n",
       "    </tr>\n",
       "    <tr>\n",
       "      <th>6</th>\n",
       "      <td>11/5/24</td>\n",
       "      <td>9:15 PM</td>\n",
       "      <td>Yogana AI Dought Clarification Hope AI</td>\n",
       "      <td>Welcome sir💐</td>\n",
       "    </tr>\n",
       "    <tr>\n",
       "      <th>7</th>\n",
       "      <td>11/5/24</td>\n",
       "      <td>9:38 PM</td>\n",
       "      <td>babusanagari</td>\n",
       "      <td>Tomorrow my birthday I take new decisions to ...</td>\n",
       "    </tr>\n",
       "    <tr>\n",
       "      <th>8</th>\n",
       "      <td>11/5/24</td>\n",
       "      <td>9:48 PM</td>\n",
       "      <td>Yogana AI Dought Clarification Hope AI</td>\n",
       "      <td>Happy early birthday! Sir 💐Taking new steps f...</td>\n",
       "    </tr>\n",
       "  </tbody>\n",
       "</table>\n",
       "</div>"
      ],
      "text/plain": [
       "      date       time                                     name  \\\n",
       "2  11/5/24   9:14 PM    Yogana AI Dought Clarification Hope AI   \n",
       "5  11/5/24   9:14 PM                              babusanagari   \n",
       "6  11/5/24   9:15 PM    Yogana AI Dought Clarification Hope AI   \n",
       "7  11/5/24   9:38 PM                              babusanagari   \n",
       "8  11/5/24   9:48 PM    Yogana AI Dought Clarification Hope AI   \n",
       "\n",
       "                                                chat  \n",
       "2                                              Hello  \n",
       "5                                           Thankyou  \n",
       "6                                       Welcome sir💐  \n",
       "7   Tomorrow my birthday I take new decisions to ...  \n",
       "8   Happy early birthday! Sir 💐Taking new steps f...  "
      ]
     },
     "execution_count": 20,
     "metadata": {},
     "output_type": "execute_result"
    }
   ],
   "source": [
    "dataset.dropna(inplace=True)\n",
    "dataset.head()"
   ]
  },
  {
   "cell_type": "code",
   "execution_count": 21,
   "id": "941d6376-2cad-4b25-9de7-a7b4b64c864a",
   "metadata": {},
   "outputs": [],
   "source": [
    "# Save DataFrame as a text file\n",
    "# Save the preprocessed DataFrame as a CSV file\n",
    "dataset.to_csv('preprocessed_chat.csv', index=False, encoding='utf-8')\n"
   ]
  },
  {
   "cell_type": "code",
   "execution_count": 22,
   "id": "039c994d-615b-4280-9309-96a9df3c5428",
   "metadata": {},
   "outputs": [],
   "source": [
    "sid = SentimentIntensityAnalyzer()"
   ]
  },
  {
   "cell_type": "code",
   "execution_count": 23,
   "id": "1d40dd8b-7c84-4656-9f28-1d6d7eb51db4",
   "metadata": {},
   "outputs": [
    {
     "name": "stderr",
     "output_type": "stream",
     "text": [
      "[nltk_data] Downloading package vader_lexicon to\n",
      "[nltk_data]     C:\\Users\\hp\\AppData\\Roaming\\nltk_data...\n",
      "[nltk_data]   Package vader_lexicon is already up-to-date!\n"
     ]
    },
    {
     "data": {
      "text/plain": [
       "True"
      ]
     },
     "execution_count": 23,
     "metadata": {},
     "output_type": "execute_result"
    }
   ],
   "source": [
    "import nltk\n",
    "nltk.download('vader_lexicon')\n"
   ]
  },
  {
   "cell_type": "code",
   "execution_count": 24,
   "id": "586a1d34-4c92-4743-826d-d1ec3cd31f6f",
   "metadata": {},
   "outputs": [
    {
     "name": "stdout",
     "output_type": "stream",
     "text": [
      "Index(['date', 'time', 'name', 'chat'], dtype='object')\n"
     ]
    }
   ],
   "source": [
    "print(dataset.columns)\n"
   ]
  },
  {
   "cell_type": "code",
   "execution_count": 25,
   "id": "36d687d2-e2e2-49ae-ba29-fdd6b339ca33",
   "metadata": {},
   "outputs": [
    {
     "name": "stdout",
     "output_type": "stream",
     "text": [
      "object\n"
     ]
    }
   ],
   "source": [
    "print(dataset['chat'].dtype)"
   ]
  },
  {
   "cell_type": "code",
   "execution_count": 26,
   "id": "95eabf74-775a-4c1f-851e-0a0b8af1ad02",
   "metadata": {},
   "outputs": [
    {
     "name": "stdout",
     "output_type": "stream",
     "text": [
      "{'neg': 0.0, 'neu': 0.672, 'pos': 0.328, 'compound': 0.944}\n"
     ]
    }
   ],
   "source": [
    "#senti=sid.polarity_scores(dataset['chat'][4])\n",
    "#senti\n",
    "senti = sid.polarity_scores(dataset.iloc[4]['chat'])\n",
    "print(senti)\n"
   ]
  },
  {
   "cell_type": "code",
   "execution_count": 27,
   "id": "82fac69d-327a-4f9d-bb56-0598684479a9",
   "metadata": {},
   "outputs": [],
   "source": [
    "def sentimentalAnalysis(data,columnname):\n",
    "        \n",
    "        #downloading vader_lexicon for the process\n",
    "        import matplotlib.pyplot as plt\n",
    "        import seaborn as sns\n",
    "        \"Importing Necessary Packeage\"\n",
    "        from nltk.sentiment.vader import SentimentIntensityAnalyzer\n",
    "        sid = SentimentIntensityAnalyzer()\n",
    "        \n",
    "        \"Deleting null pr empty value\"\n",
    "        data.dropna(inplace=True)\n",
    "        \n",
    "        \"Checking for a comment\"\n",
    "        #sid.polarity_scores(data[columnname][93])\n",
    "        \n",
    "        \"Creating respective columns\"\n",
    "        \n",
    "        data['scores'] = data[columnname].apply(lambda commentText: sid.polarity_scores(commentText))\n",
    "        data['compound']  = data['scores'].apply(lambda score_dict: score_dict['compound'])\n",
    "        data['Negtive']  = data['scores'].apply(lambda score_dict: score_dict['neg'])\n",
    "        data['Postive']  = data['scores'].apply(lambda score_dict: score_dict['pos'])\n",
    "        data['Neutral']  = data['scores'].apply(lambda score_dict: score_dict['neu'])\n",
    "        \n",
    "        \"Creating final pos or neg using compound score\"\n",
    "        data['comp_score'] = data['compound'].apply(lambda c: 'pos' if c >=0 else 'neg')\n",
    "        plt.clf()\n",
    "        #comp=sns.countplot(x = 'comp_score', hue = 'Name', data = data, palette = 'magma')\n",
    "        #comp.figure.savefig(\"date_charts.png\")\n",
    "        \"Checking how many pos and neg\"\n",
    "        posneg=pd.DataFrame(data['comp_score'].value_counts())\n",
    "        return posneg,data"
   ]
  },
  {
   "cell_type": "code",
   "execution_count": 28,
   "id": "3b3931c0-4da5-4efd-ada7-5272c15b26cf",
   "metadata": {},
   "outputs": [
    {
     "name": "stdout",
     "output_type": "stream",
     "text": [
      "Collecting package metadata (current_repodata.json): ...working... done\n",
      "Solving environment: ...working... done\n",
      "\n",
      "## Package Plan ##\n",
      "\n",
      "  environment location: C:\\Users\\hp\\anaconda3\\envs\\vnlp\n",
      "\n",
      "  added / updated specs:\n",
      "    - matplotlib\n",
      "\n",
      "\n",
      "The following NEW packages will be INSTALLED:\n",
      "\n",
      "  blas               pkgs/main/win-64::blas-1.0-mkl \n",
      "  contourpy          pkgs/main/win-64::contourpy-1.3.1-py312h214f63a_0 \n",
      "  cycler             pkgs/main/noarch::cycler-0.11.0-pyhd3eb1b0_0 \n",
      "  fonttools          pkgs/main/win-64::fonttools-4.55.3-py312h827c3e9_0 \n",
      "  freetype           pkgs/main/win-64::freetype-2.12.1-ha860e81_0 \n",
      "  icu                pkgs/main/win-64::icu-73.1-h6c2663c_0 \n",
      "  intel-openmp       pkgs/main/win-64::intel-openmp-2023.1.0-h59b6b97_46320 \n",
      "  jpeg               pkgs/main/win-64::jpeg-9e-h827c3e9_3 \n",
      "  kiwisolver         pkgs/main/win-64::kiwisolver-1.4.8-py312h5da7b33_0 \n",
      "  krb5               pkgs/main/win-64::krb5-1.20.1-h5b6d351_0 \n",
      "  lcms2              pkgs/main/win-64::lcms2-2.16-hb4a4139_0 \n",
      "  lerc               pkgs/main/win-64::lerc-4.0.0-h5da7b33_0 \n",
      "  libclang           pkgs/main/win-64::libclang-14.0.6-default_hb5a9fac_2 \n",
      "  libclang13         pkgs/main/win-64::libclang13-14.0.6-default_h8e68704_2 \n",
      "  libdeflate         pkgs/main/win-64::libdeflate-1.22-h5bf469e_0 \n",
      "  libpng             pkgs/main/win-64::libpng-1.6.39-h8cc25b3_0 \n",
      "  libpq              pkgs/main/win-64::libpq-17.2-h70ee33d_0 \n",
      "  libtiff            pkgs/main/win-64::libtiff-4.5.1-h44ae7cf_1 \n",
      "  libwebp-base       pkgs/main/win-64::libwebp-base-1.3.2-h3d04722_1 \n",
      "  lz4-c              pkgs/main/win-64::lz4-c-1.9.4-h2bbff1b_1 \n",
      "  matplotlib         pkgs/main/win-64::matplotlib-3.10.0-py312haa95532_0 \n",
      "  matplotlib-base    pkgs/main/win-64::matplotlib-base-3.10.0-py312he19b0ae_0 \n",
      "  mkl                pkgs/main/win-64::mkl-2023.1.0-h6b88ed4_46358 \n",
      "  mkl-service        pkgs/main/win-64::mkl-service-2.4.0-py312h827c3e9_2 \n",
      "  mkl_fft            pkgs/main/win-64::mkl_fft-1.3.11-py312h827c3e9_0 \n",
      "  mkl_random         pkgs/main/win-64::mkl_random-1.2.8-py312h0158946_0 \n",
      "  numpy              pkgs/main/win-64::numpy-1.26.4-py312hfd52020_0 \n",
      "  numpy-base         pkgs/main/win-64::numpy-base-1.26.4-py312h4dde369_0 \n",
      "  openjpeg           pkgs/main/win-64::openjpeg-2.5.2-hae555c5_0 \n",
      "  packaging          pkgs/main/win-64::packaging-24.2-py312haa95532_0 \n",
      "  pillow             pkgs/main/win-64::pillow-11.1.0-py312h096bfcc_0 \n",
      "  ply                pkgs/main/win-64::ply-3.11-py312haa95532_1 \n",
      "  pyparsing          pkgs/main/win-64::pyparsing-3.2.0-py312haa95532_0 \n",
      "  pyqt               pkgs/main/win-64::pyqt-5.15.10-py312h5da7b33_1 \n",
      "  pyqt5-sip          pkgs/main/win-64::pyqt5-sip-12.13.0-py312h827c3e9_1 \n",
      "  python-dateutil    pkgs/main/win-64::python-dateutil-2.9.0post0-py312haa95532_2 \n",
      "  qt-main            pkgs/main/win-64::qt-main-5.15.2-h19c9488_11 \n",
      "  sip                pkgs/main/win-64::sip-6.7.12-py312h5da7b33_1 \n",
      "  six                pkgs/main/noarch::six-1.16.0-pyhd3eb1b0_1 \n",
      "  tbb                pkgs/main/win-64::tbb-2021.8.0-h59b6b97_0 \n",
      "  tornado            pkgs/main/win-64::tornado-6.4.2-py312h827c3e9_0 \n",
      "  unicodedata2       pkgs/main/win-64::unicodedata2-15.1.0-py312h827c3e9_1 \n",
      "  zstd               pkgs/main/win-64::zstd-1.5.6-h8880b57_0 \n",
      "\n",
      "The following packages will be SUPERSEDED by a higher-priority channel:\n",
      "\n",
      "  ca-certificates    conda-forge::ca-certificates-2025.1.3~ --> pkgs/main::ca-certificates-2024.12.31-haa95532_0 \n",
      "  certifi            conda-forge/noarch::certifi-2024.12.1~ --> pkgs/main/win-64::certifi-2024.12.14-py312haa95532_0 \n",
      "\n",
      "\n",
      "\n",
      "Downloading and Extracting Packages\n",
      "\n",
      "\n",
      "Preparing transaction: ...working... done\n",
      "Verifying transaction: ...working... done\n",
      "Executing transaction: ...working... done\n",
      "\n",
      "Note: you may need to restart the kernel to use updated packages.\n"
     ]
    },
    {
     "name": "stderr",
     "output_type": "stream",
     "text": [
      "DEBUG:urllib3.connectionpool:Starting new HTTPS connection (1): repo.anaconda.com:443\n",
      "DEBUG:urllib3.connectionpool:Starting new HTTPS connection (1): repo.anaconda.com:443\n",
      "DEBUG:urllib3.connectionpool:Starting new HTTPS connection (1): repo.anaconda.com:443\n",
      "DEBUG:urllib3.connectionpool:Starting new HTTPS connection (1): repo.anaconda.com:443\n",
      "DEBUG:urllib3.connectionpool:Starting new HTTPS connection (1): repo.anaconda.com:443\n",
      "DEBUG:urllib3.connectionpool:Starting new HTTPS connection (1): repo.anaconda.com:443\n",
      "DEBUG:urllib3.connectionpool:https://repo.anaconda.com:443 \"GET /pkgs/r/win-64/current_repodata.json HTTP/1.1\" 304 0\n",
      "DEBUG:urllib3.connectionpool:https://repo.anaconda.com:443 \"GET /pkgs/msys2/win-64/current_repodata.json HTTP/1.1\" 304 0\n",
      "DEBUG:urllib3.connectionpool:https://repo.anaconda.com:443 \"GET /pkgs/msys2/noarch/current_repodata.json HTTP/1.1\" 304 0\n",
      "DEBUG:urllib3.connectionpool:https://repo.anaconda.com:443 \"GET /pkgs/r/noarch/current_repodata.json HTTP/1.1\" 304 0\n",
      "DEBUG:urllib3.connectionpool:https://repo.anaconda.com:443 \"GET /pkgs/main/win-64/current_repodata.json HTTP/1.1\" 304 0\n",
      "DEBUG:urllib3.connectionpool:https://repo.anaconda.com:443 \"GET /pkgs/main/noarch/current_repodata.json HTTP/1.1\" 304 0\n",
      "\n",
      "\n",
      "==> WARNING: A newer version of conda exists. <==\n",
      "  current version: 23.7.4\n",
      "  latest version: 25.1.1\n",
      "\n",
      "Please update conda by running\n",
      "\n",
      "    $ conda update -n base -c defaults conda\n",
      "\n",
      "Or to minimize the number of packages updated during conda update use\n",
      "\n",
      "     conda install conda=25.1.1\n",
      "\n",
      "\n"
     ]
    }
   ],
   "source": [
    "conda install matplotlib"
   ]
  },
  {
   "cell_type": "code",
   "execution_count": 29,
   "id": "127e6067-b56e-45dd-8d7f-4c7efedbceb7",
   "metadata": {},
   "outputs": [
    {
     "name": "stdout",
     "output_type": "stream",
     "text": [
      "Collecting seaborn\n",
      "  Using cached seaborn-0.13.2-py3-none-any.whl.metadata (5.4 kB)\n",
      "Requirement already satisfied: numpy!=1.24.0,>=1.20 in c:\\users\\hp\\anaconda3\\envs\\vnlp\\lib\\site-packages (from seaborn) (1.26.4)\n",
      "Requirement already satisfied: pandas>=1.2 in c:\\users\\hp\\anaconda3\\envs\\vnlp\\lib\\site-packages (from seaborn) (2.2.3)\n",
      "Requirement already satisfied: matplotlib!=3.6.1,>=3.4 in c:\\users\\hp\\anaconda3\\envs\\vnlp\\lib\\site-packages (from seaborn) (3.10.0)\n",
      "Requirement already satisfied: contourpy>=1.0.1 in c:\\users\\hp\\anaconda3\\envs\\vnlp\\lib\\site-packages (from matplotlib!=3.6.1,>=3.4->seaborn) (1.3.1)\n",
      "Requirement already satisfied: cycler>=0.10 in c:\\users\\hp\\anaconda3\\envs\\vnlp\\lib\\site-packages (from matplotlib!=3.6.1,>=3.4->seaborn) (0.11.0)\n",
      "Requirement already satisfied: fonttools>=4.22.0 in c:\\users\\hp\\anaconda3\\envs\\vnlp\\lib\\site-packages (from matplotlib!=3.6.1,>=3.4->seaborn) (4.55.3)\n",
      "Requirement already satisfied: kiwisolver>=1.3.1 in c:\\users\\hp\\anaconda3\\envs\\vnlp\\lib\\site-packages (from matplotlib!=3.6.1,>=3.4->seaborn) (1.4.8)\n",
      "Requirement already satisfied: packaging>=20.0 in c:\\users\\hp\\anaconda3\\envs\\vnlp\\lib\\site-packages (from matplotlib!=3.6.1,>=3.4->seaborn) (24.2)\n",
      "Requirement already satisfied: pillow>=8 in c:\\users\\hp\\anaconda3\\envs\\vnlp\\lib\\site-packages (from matplotlib!=3.6.1,>=3.4->seaborn) (11.1.0)\n",
      "Requirement already satisfied: pyparsing>=2.3.1 in c:\\users\\hp\\anaconda3\\envs\\vnlp\\lib\\site-packages (from matplotlib!=3.6.1,>=3.4->seaborn) (3.2.0)\n",
      "Requirement already satisfied: python-dateutil>=2.7 in c:\\users\\hp\\anaconda3\\envs\\vnlp\\lib\\site-packages (from matplotlib!=3.6.1,>=3.4->seaborn) (2.9.0.post0)\n",
      "Requirement already satisfied: pytz>=2020.1 in c:\\users\\hp\\anaconda3\\envs\\vnlp\\lib\\site-packages (from pandas>=1.2->seaborn) (2025.1)\n",
      "Requirement already satisfied: tzdata>=2022.7 in c:\\users\\hp\\anaconda3\\envs\\vnlp\\lib\\site-packages (from pandas>=1.2->seaborn) (2025.1)\n",
      "Requirement already satisfied: six>=1.5 in c:\\users\\hp\\anaconda3\\envs\\vnlp\\lib\\site-packages (from python-dateutil>=2.7->matplotlib!=3.6.1,>=3.4->seaborn) (1.16.0)\n",
      "Using cached seaborn-0.13.2-py3-none-any.whl (294 kB)\n",
      "Installing collected packages: seaborn\n",
      "Successfully installed seaborn-0.13.2\n",
      "Note: you may need to restart the kernel to use updated packages.\n"
     ]
    }
   ],
   "source": [
    "pip install seaborn"
   ]
  },
  {
   "cell_type": "code",
   "execution_count": 30,
   "id": "4c82e27a-57ce-4860-88b8-aa3b26e18975",
   "metadata": {},
   "outputs": [
    {
     "data": {
      "text/plain": [
       "<Figure size 640x480 with 0 Axes>"
      ]
     },
     "metadata": {},
     "output_type": "display_data"
    }
   ],
   "source": [
    "pos,data_Senti=sentimentalAnalysis(dataset,columnname='chat')"
   ]
  },
  {
   "cell_type": "code",
   "execution_count": 31,
   "id": "aeedd6c2-0815-4d77-96e6-ec511e3b01a5",
   "metadata": {},
   "outputs": [
    {
     "data": {
      "text/html": [
       "<div>\n",
       "<style scoped>\n",
       "    .dataframe tbody tr th:only-of-type {\n",
       "        vertical-align: middle;\n",
       "    }\n",
       "\n",
       "    .dataframe tbody tr th {\n",
       "        vertical-align: top;\n",
       "    }\n",
       "\n",
       "    .dataframe thead th {\n",
       "        text-align: right;\n",
       "    }\n",
       "</style>\n",
       "<table border=\"1\" class=\"dataframe\">\n",
       "  <thead>\n",
       "    <tr style=\"text-align: right;\">\n",
       "      <th></th>\n",
       "      <th>count</th>\n",
       "    </tr>\n",
       "    <tr>\n",
       "      <th>comp_score</th>\n",
       "      <th></th>\n",
       "    </tr>\n",
       "  </thead>\n",
       "  <tbody>\n",
       "    <tr>\n",
       "      <th>pos</th>\n",
       "      <td>2802</td>\n",
       "    </tr>\n",
       "    <tr>\n",
       "      <th>neg</th>\n",
       "      <td>135</td>\n",
       "    </tr>\n",
       "  </tbody>\n",
       "</table>\n",
       "</div>"
      ],
      "text/plain": [
       "            count\n",
       "comp_score       \n",
       "pos          2802\n",
       "neg           135"
      ]
     },
     "execution_count": 31,
     "metadata": {},
     "output_type": "execute_result"
    }
   ],
   "source": [
    "pos"
   ]
  },
  {
   "cell_type": "code",
   "execution_count": 32,
   "id": "21f6f3c9-73fe-49b6-aaca-50ca60804bff",
   "metadata": {},
   "outputs": [
    {
     "name": "stdout",
     "output_type": "stream",
     "text": [
      "<class 'pandas.core.frame.DataFrame'>\n",
      "(2, 1)\n",
      "            count\n",
      "comp_score       \n",
      "pos          2802\n",
      "neg           135\n"
     ]
    }
   ],
   "source": [
    "print(type(pos))\n",
    "print(pos.shape if hasattr(pos, 'shape') else len(pos))\n",
    "print(pos[:5])  # Check the first few elements\n"
   ]
  },
  {
   "cell_type": "code",
   "execution_count": 33,
   "id": "2e1874d2-643a-4fcf-bd5d-692dc507ff70",
   "metadata": {},
   "outputs": [
    {
     "data": {
      "text/plain": [
       "array([2802,  135])"
      ]
     },
     "execution_count": 33,
     "metadata": {},
     "output_type": "execute_result"
    }
   ],
   "source": [
    "import numpy as np\n",
    "pos = np.ravel(pos)\n",
    "pos"
   ]
  },
  {
   "cell_type": "code",
   "execution_count": 34,
   "id": "cdedd7ab-e9cb-4615-802e-ce29ca0173da",
   "metadata": {},
   "outputs": [
    {
     "name": "stdout",
     "output_type": "stream",
     "text": [
      "2937 2\n"
     ]
    }
   ],
   "source": [
    "print(len(dataset['chat']), len(pos))\n"
   ]
  },
  {
   "cell_type": "code",
   "execution_count": 35,
   "id": "ba9a3ba6-db4b-48fd-86d2-61dce0ca57c5",
   "metadata": {},
   "outputs": [
    {
     "data": {
      "text/html": [
       "<div>\n",
       "<style scoped>\n",
       "    .dataframe tbody tr th:only-of-type {\n",
       "        vertical-align: middle;\n",
       "    }\n",
       "\n",
       "    .dataframe tbody tr th {\n",
       "        vertical-align: top;\n",
       "    }\n",
       "\n",
       "    .dataframe thead th {\n",
       "        text-align: right;\n",
       "    }\n",
       "</style>\n",
       "<table border=\"1\" class=\"dataframe\">\n",
       "  <thead>\n",
       "    <tr style=\"text-align: right;\">\n",
       "      <th></th>\n",
       "      <th>date</th>\n",
       "      <th>time</th>\n",
       "      <th>name</th>\n",
       "      <th>chat</th>\n",
       "      <th>scores</th>\n",
       "      <th>compound</th>\n",
       "      <th>Negtive</th>\n",
       "      <th>Postive</th>\n",
       "      <th>Neutral</th>\n",
       "      <th>comp_score</th>\n",
       "    </tr>\n",
       "  </thead>\n",
       "  <tbody>\n",
       "    <tr>\n",
       "      <th>2</th>\n",
       "      <td>11/5/24</td>\n",
       "      <td>9:14 PM</td>\n",
       "      <td>Yogana AI Dought Clarification Hope AI</td>\n",
       "      <td>Hello</td>\n",
       "      <td>{'neg': 0.0, 'neu': 1.0, 'pos': 0.0, 'compound...</td>\n",
       "      <td>0.0000</td>\n",
       "      <td>0.0</td>\n",
       "      <td>0.000</td>\n",
       "      <td>1.000</td>\n",
       "      <td>pos</td>\n",
       "    </tr>\n",
       "    <tr>\n",
       "      <th>5</th>\n",
       "      <td>11/5/24</td>\n",
       "      <td>9:14 PM</td>\n",
       "      <td>babusanagari</td>\n",
       "      <td>Thankyou</td>\n",
       "      <td>{'neg': 0.0, 'neu': 1.0, 'pos': 0.0, 'compound...</td>\n",
       "      <td>0.0000</td>\n",
       "      <td>0.0</td>\n",
       "      <td>0.000</td>\n",
       "      <td>1.000</td>\n",
       "      <td>pos</td>\n",
       "    </tr>\n",
       "    <tr>\n",
       "      <th>6</th>\n",
       "      <td>11/5/24</td>\n",
       "      <td>9:15 PM</td>\n",
       "      <td>Yogana AI Dought Clarification Hope AI</td>\n",
       "      <td>Welcome sir💐</td>\n",
       "      <td>{'neg': 0.0, 'neu': 0.25, 'pos': 0.75, 'compou...</td>\n",
       "      <td>0.4588</td>\n",
       "      <td>0.0</td>\n",
       "      <td>0.750</td>\n",
       "      <td>0.250</td>\n",
       "      <td>pos</td>\n",
       "    </tr>\n",
       "    <tr>\n",
       "      <th>7</th>\n",
       "      <td>11/5/24</td>\n",
       "      <td>9:38 PM</td>\n",
       "      <td>babusanagari</td>\n",
       "      <td>Tomorrow my birthday I take new decisions to ...</td>\n",
       "      <td>{'neg': 0.0, 'neu': 0.755, 'pos': 0.245, 'comp...</td>\n",
       "      <td>0.3818</td>\n",
       "      <td>0.0</td>\n",
       "      <td>0.245</td>\n",
       "      <td>0.755</td>\n",
       "      <td>pos</td>\n",
       "    </tr>\n",
       "    <tr>\n",
       "      <th>8</th>\n",
       "      <td>11/5/24</td>\n",
       "      <td>9:48 PM</td>\n",
       "      <td>Yogana AI Dought Clarification Hope AI</td>\n",
       "      <td>Happy early birthday! Sir 💐Taking new steps f...</td>\n",
       "      <td>{'neg': 0.0, 'neu': 0.672, 'pos': 0.328, 'comp...</td>\n",
       "      <td>0.9440</td>\n",
       "      <td>0.0</td>\n",
       "      <td>0.328</td>\n",
       "      <td>0.672</td>\n",
       "      <td>pos</td>\n",
       "    </tr>\n",
       "    <tr>\n",
       "      <th>...</th>\n",
       "      <td>...</td>\n",
       "      <td>...</td>\n",
       "      <td>...</td>\n",
       "      <td>...</td>\n",
       "      <td>...</td>\n",
       "      <td>...</td>\n",
       "      <td>...</td>\n",
       "      <td>...</td>\n",
       "      <td>...</td>\n",
       "      <td>...</td>\n",
       "    </tr>\n",
       "    <tr>\n",
       "      <th>4699</th>\n",
       "      <td>1/28/25</td>\n",
       "      <td>7:17 PM</td>\n",
       "      <td>Yogana AI Dought Clarification Hope AI</td>\n",
       "      <td>Will share sir</td>\n",
       "      <td>{'neg': 0.0, 'neu': 0.476, 'pos': 0.524, 'comp...</td>\n",
       "      <td>0.2960</td>\n",
       "      <td>0.0</td>\n",
       "      <td>0.524</td>\n",
       "      <td>0.476</td>\n",
       "      <td>pos</td>\n",
       "    </tr>\n",
       "    <tr>\n",
       "      <th>4700</th>\n",
       "      <td>1/28/25</td>\n",
       "      <td>7:24 PM</td>\n",
       "      <td>babusanagari</td>\n",
       "      <td>ok</td>\n",
       "      <td>{'neg': 0.0, 'neu': 0.0, 'pos': 1.0, 'compound...</td>\n",
       "      <td>0.2960</td>\n",
       "      <td>0.0</td>\n",
       "      <td>1.000</td>\n",
       "      <td>0.000</td>\n",
       "      <td>pos</td>\n",
       "    </tr>\n",
       "    <tr>\n",
       "      <th>4701</th>\n",
       "      <td>1/28/25</td>\n",
       "      <td>7:28 PM</td>\n",
       "      <td>Yogana AI Dought Clarification Hope AI</td>\n",
       "      <td>&lt;Media omitted&gt;</td>\n",
       "      <td>{'neg': 0.0, 'neu': 1.0, 'pos': 0.0, 'compound...</td>\n",
       "      <td>0.0000</td>\n",
       "      <td>0.0</td>\n",
       "      <td>0.000</td>\n",
       "      <td>1.000</td>\n",
       "      <td>pos</td>\n",
       "    </tr>\n",
       "    <tr>\n",
       "      <th>4702</th>\n",
       "      <td>1/28/25</td>\n",
       "      <td>7:29 PM</td>\n",
       "      <td>babusanagari</td>\n",
       "      <td>ok</td>\n",
       "      <td>{'neg': 0.0, 'neu': 0.0, 'pos': 1.0, 'compound...</td>\n",
       "      <td>0.2960</td>\n",
       "      <td>0.0</td>\n",
       "      <td>1.000</td>\n",
       "      <td>0.000</td>\n",
       "      <td>pos</td>\n",
       "    </tr>\n",
       "    <tr>\n",
       "      <th>4703</th>\n",
       "      <td>1/28/25</td>\n",
       "      <td>7:30 PM</td>\n",
       "      <td>Yogana AI Dought Clarification Hope AI</td>\n",
       "      <td>👍</td>\n",
       "      <td>{'neg': 0.0, 'neu': 0.0, 'pos': 0.0, 'compound...</td>\n",
       "      <td>0.0000</td>\n",
       "      <td>0.0</td>\n",
       "      <td>0.000</td>\n",
       "      <td>0.000</td>\n",
       "      <td>pos</td>\n",
       "    </tr>\n",
       "  </tbody>\n",
       "</table>\n",
       "<p>2937 rows × 10 columns</p>\n",
       "</div>"
      ],
      "text/plain": [
       "         date       time                                     name  \\\n",
       "2     11/5/24   9:14 PM    Yogana AI Dought Clarification Hope AI   \n",
       "5     11/5/24   9:14 PM                              babusanagari   \n",
       "6     11/5/24   9:15 PM    Yogana AI Dought Clarification Hope AI   \n",
       "7     11/5/24   9:38 PM                              babusanagari   \n",
       "8     11/5/24   9:48 PM    Yogana AI Dought Clarification Hope AI   \n",
       "...       ...        ...                                      ...   \n",
       "4699  1/28/25   7:17 PM    Yogana AI Dought Clarification Hope AI   \n",
       "4700  1/28/25   7:24 PM                              babusanagari   \n",
       "4701  1/28/25   7:28 PM    Yogana AI Dought Clarification Hope AI   \n",
       "4702  1/28/25   7:29 PM                              babusanagari   \n",
       "4703  1/28/25   7:30 PM    Yogana AI Dought Clarification Hope AI   \n",
       "\n",
       "                                                   chat  \\\n",
       "2                                                 Hello   \n",
       "5                                              Thankyou   \n",
       "6                                          Welcome sir💐   \n",
       "7      Tomorrow my birthday I take new decisions to ...   \n",
       "8      Happy early birthday! Sir 💐Taking new steps f...   \n",
       "...                                                 ...   \n",
       "4699                                     Will share sir   \n",
       "4700                                                 ok   \n",
       "4701                                    <Media omitted>   \n",
       "4702                                                 ok   \n",
       "4703                                                  👍   \n",
       "\n",
       "                                                 scores  compound  Negtive  \\\n",
       "2     {'neg': 0.0, 'neu': 1.0, 'pos': 0.0, 'compound...    0.0000      0.0   \n",
       "5     {'neg': 0.0, 'neu': 1.0, 'pos': 0.0, 'compound...    0.0000      0.0   \n",
       "6     {'neg': 0.0, 'neu': 0.25, 'pos': 0.75, 'compou...    0.4588      0.0   \n",
       "7     {'neg': 0.0, 'neu': 0.755, 'pos': 0.245, 'comp...    0.3818      0.0   \n",
       "8     {'neg': 0.0, 'neu': 0.672, 'pos': 0.328, 'comp...    0.9440      0.0   \n",
       "...                                                 ...       ...      ...   \n",
       "4699  {'neg': 0.0, 'neu': 0.476, 'pos': 0.524, 'comp...    0.2960      0.0   \n",
       "4700  {'neg': 0.0, 'neu': 0.0, 'pos': 1.0, 'compound...    0.2960      0.0   \n",
       "4701  {'neg': 0.0, 'neu': 1.0, 'pos': 0.0, 'compound...    0.0000      0.0   \n",
       "4702  {'neg': 0.0, 'neu': 0.0, 'pos': 1.0, 'compound...    0.2960      0.0   \n",
       "4703  {'neg': 0.0, 'neu': 0.0, 'pos': 0.0, 'compound...    0.0000      0.0   \n",
       "\n",
       "      Postive  Neutral comp_score  \n",
       "2       0.000    1.000        pos  \n",
       "5       0.000    1.000        pos  \n",
       "6       0.750    0.250        pos  \n",
       "7       0.245    0.755        pos  \n",
       "8       0.328    0.672        pos  \n",
       "...       ...      ...        ...  \n",
       "4699    0.524    0.476        pos  \n",
       "4700    1.000    0.000        pos  \n",
       "4701    0.000    1.000        pos  \n",
       "4702    1.000    0.000        pos  \n",
       "4703    0.000    0.000        pos  \n",
       "\n",
       "[2937 rows x 10 columns]"
      ]
     },
     "execution_count": 35,
     "metadata": {},
     "output_type": "execute_result"
    }
   ],
   "source": [
    "data_Senti"
   ]
  },
  {
   "cell_type": "code",
   "execution_count": 36,
   "id": "7a8a1dd2-5b73-48b6-92c2-04284c819622",
   "metadata": {},
   "outputs": [
    {
     "name": "stdout",
     "output_type": "stream",
     "text": [
      "Mismatch: len(pos)=2, len(chat)=2937\n",
      "Sentiment\n",
      "Neutral    2935\n",
      "2802          1\n",
      "135           1\n",
      "Name: count, dtype: int64\n"
     ]
    },
    {
     "data": {
      "text/plain": [
       "<Figure size 640x480 with 0 Axes>"
      ]
     },
     "metadata": {},
     "output_type": "display_data"
    }
   ],
   "source": [
    "# Ensure sentiment analysis outputs match the input dataset\n",
    "pos, data_Senti = sentimentalAnalysis(dataset, columnname='chat')\n",
    "\n",
    "# Check and resolve length mismatch\n",
    "if isinstance(pos, pd.DataFrame):\n",
    "    # Select the correct column containing sentiment data\n",
    "    pos = pos['count'].tolist()  # Replace 'Sentiment' with the actual column name if different\n",
    "\n",
    "if len(pos) != len(dataset['chat']):\n",
    "    print(f\"Mismatch: len(pos)={len(pos)}, len(chat)={len(dataset['chat'])}\")\n",
    "    pos = pos + ['Neutral'] * (len(dataset['chat']) - len(pos))  # Pad with 'Neutral'\n",
    "\n",
    "# Create the DataFrame\n",
    "data_Senti = pd.DataFrame({\n",
    "    'chat': dataset['chat'],  # Original text\n",
    "    'Sentiment': pos          # Sentiment classifications\n",
    "})\n",
    "\n",
    "# Display the sentiment counts\n",
    "print(data_Senti['Sentiment'].value_counts())\n",
    "\n"
   ]
  },
  {
   "cell_type": "code",
   "execution_count": 37,
   "id": "5676a389-13f3-49a8-8291-4aca1467ce58",
   "metadata": {},
   "outputs": [
    {
     "data": {
      "text/plain": [
       "<bound method NDFrame.head of                                                    chat Sentiment\n",
       "2                                                 Hello      2802\n",
       "5                                              Thankyou       135\n",
       "6                                          Welcome sir💐   Neutral\n",
       "7      Tomorrow my birthday I take new decisions to ...   Neutral\n",
       "8      Happy early birthday! Sir 💐Taking new steps f...   Neutral\n",
       "...                                                 ...       ...\n",
       "4699                                     Will share sir   Neutral\n",
       "4700                                                 ok   Neutral\n",
       "4701                                    <Media omitted>   Neutral\n",
       "4702                                                 ok   Neutral\n",
       "4703                                                  👍   Neutral\n",
       "\n",
       "[2937 rows x 2 columns]>"
      ]
     },
     "execution_count": 37,
     "metadata": {},
     "output_type": "execute_result"
    }
   ],
   "source": [
    "data_Senti.head"
   ]
  },
  {
   "cell_type": "code",
   "execution_count": 38,
   "id": "eac8a81d-ae0b-45b3-a6b4-ebc59a12a6cc",
   "metadata": {},
   "outputs": [
    {
     "name": "stdout",
     "output_type": "stream",
     "text": [
      "Sentiment\n",
      "Neutral    2935\n",
      "2802          1\n",
      "135           1\n",
      "Name: count, dtype: int64\n"
     ]
    }
   ],
   "source": [
    "import pandas as pd\n",
    "import matplotlib.pyplot as plt\n",
    "\n",
    "# Example dataset with sentiment classification\n",
    "data_Senti = pd.DataFrame({\n",
    "    'chat': dataset['chat'],   # Original text\n",
    "    'Sentiment': pos           # Sentiment classifications: Positive, Negative, Neutral\n",
    "})\n",
    "\n",
    "# Count the number of occurrences for each sentiment\n",
    "sentiment_counts = data_Senti['Sentiment'].value_counts()\n",
    "print(sentiment_counts)"
   ]
  },
  {
   "cell_type": "code",
   "execution_count": 41,
   "id": "9a287e0e-591a-48aa-b721-e11d1545dc49",
   "metadata": {},
   "outputs": [
    {
     "name": "stdout",
     "output_type": "stream",
     "text": [
      "Collecting wordcloud\n",
      "  Downloading wordcloud-1.9.4-cp312-cp312-win_amd64.whl.metadata (3.5 kB)\n",
      "Requirement already satisfied: numpy>=1.6.1 in c:\\users\\hp\\anaconda3\\envs\\vnlp\\lib\\site-packages (from wordcloud) (1.26.4)\n",
      "Requirement already satisfied: pillow in c:\\users\\hp\\anaconda3\\envs\\vnlp\\lib\\site-packages (from wordcloud) (11.1.0)\n",
      "Requirement already satisfied: matplotlib in c:\\users\\hp\\anaconda3\\envs\\vnlp\\lib\\site-packages (from wordcloud) (3.10.0)\n",
      "Requirement already satisfied: contourpy>=1.0.1 in c:\\users\\hp\\anaconda3\\envs\\vnlp\\lib\\site-packages (from matplotlib->wordcloud) (1.3.1)\n",
      "Requirement already satisfied: cycler>=0.10 in c:\\users\\hp\\anaconda3\\envs\\vnlp\\lib\\site-packages (from matplotlib->wordcloud) (0.11.0)\n",
      "Requirement already satisfied: fonttools>=4.22.0 in c:\\users\\hp\\anaconda3\\envs\\vnlp\\lib\\site-packages (from matplotlib->wordcloud) (4.55.3)\n",
      "Requirement already satisfied: kiwisolver>=1.3.1 in c:\\users\\hp\\anaconda3\\envs\\vnlp\\lib\\site-packages (from matplotlib->wordcloud) (1.4.8)\n",
      "Requirement already satisfied: packaging>=20.0 in c:\\users\\hp\\anaconda3\\envs\\vnlp\\lib\\site-packages (from matplotlib->wordcloud) (24.2)\n",
      "Requirement already satisfied: pyparsing>=2.3.1 in c:\\users\\hp\\anaconda3\\envs\\vnlp\\lib\\site-packages (from matplotlib->wordcloud) (3.2.0)\n",
      "Requirement already satisfied: python-dateutil>=2.7 in c:\\users\\hp\\anaconda3\\envs\\vnlp\\lib\\site-packages (from matplotlib->wordcloud) (2.9.0.post0)\n",
      "Requirement already satisfied: six>=1.5 in c:\\users\\hp\\anaconda3\\envs\\vnlp\\lib\\site-packages (from python-dateutil>=2.7->matplotlib->wordcloud) (1.16.0)\n",
      "Downloading wordcloud-1.9.4-cp312-cp312-win_amd64.whl (301 kB)\n",
      "Installing collected packages: wordcloud\n",
      "Successfully installed wordcloud-1.9.4\n"
     ]
    }
   ],
   "source": [
    "!pip install wordcloud"
   ]
  },
  {
   "cell_type": "code",
   "execution_count": 42,
   "id": "6f7028c2-ec54-4614-a2ef-8d67997a1263",
   "metadata": {},
   "outputs": [
    {
     "data": {
      "image/png": "[encoded data removed]",
      "text/plain": [
       "<Figure size 1000x500 with 1 Axes>"
      ]
     },
     "metadata": {},
     "output_type": "display_data"
    }
   ],
   "source": [
    "from wordcloud import WordCloud\n",
    "\n",
    "# Generate a word cloud for Neutral sentiments\n",
    "positive_text = \" \".join(data_Senti[data_Senti['Sentiment'] == 'Neutral']['chat'])\n",
    "wordcloud = WordCloud(width=800, height=400, background_color='white').generate(positive_text)\n",
    "\n",
    "# Display the word cloud\n",
    "plt.figure(figsize=(10, 5))\n",
    "plt.imshow(wordcloud, interpolation='bilinear')\n",
    "plt.axis('off')\n",
    "plt.title(\"Word Cloud for Neutral Sentiments\")\n",
    "plt.show()\n"
   ]
  },
  {
   "cell_type": "code",
   "execution_count": 43,
   "id": "fff36e21-f556-4920-a342-8017b323ed11",
   "metadata": {},
   "outputs": [
    {
     "name": "stdout",
     "output_type": "stream",
     "text": [
      "Index(['chat', 'Sentiment'], dtype='object')\n"
     ]
    }
   ],
   "source": [
    "print(data_Senti.columns)"
   ]
  },
  {
   "cell_type": "code",
   "execution_count": 44,
   "id": "0cc5f7c2-d34d-48fd-b953-ae6014438be0",
   "metadata": {},
   "outputs": [
    {
     "data": {
      "image/png": "[encoded data removed]",
      "text/plain": [
       "<Figure size 800x600 with 1 Axes>"
      ]
     },
     "metadata": {},
     "output_type": "display_data"
    }
   ],
   "source": [
    "# Pie chart\n",
    "plt.figure(figsize=(8, 6))\n",
    "sentiment_counts.plot(kind='pie', autopct='%1.1f%%', startangle=90, colors=['green', 'blue', 'red'])\n",
    "plt.title(\"Sentiment Analysis Results\")\n",
    "plt.ylabel(\"\")  # Hide the y-axis label for a cleaner pie chart\n",
    "plt.show()\n"
   ]
  },
  {
   "cell_type": "code",
   "execution_count": 45,
   "id": "e10f3907-0243-4b95-9119-567a2eee8a2d",
   "metadata": {},
   "outputs": [
    {
     "data": {
      "image/png": "[encoded data removed]",
      "text/plain": [
       "<Figure size 800x600 with 1 Axes>"
      ]
     },
     "metadata": {},
     "output_type": "display_data"
    }
   ],
   "source": [
    "# Bar chart\n",
    "plt.figure(figsize=(8, 6))\n",
    "sentiment_counts.plot(kind='bar', color=['green', 'blue', 'red'], alpha=0.7)\n",
    "plt.title(\"Sentiment Analysis Results\")\n",
    "plt.xlabel(\"Sentiment\")\n",
    "plt.ylabel(\"Count\")\n",
    "plt.xticks(rotation=0)\n",
    "plt.show()\n"
   ]
  },
  {
   "cell_type": "code",
   "execution_count": 46,
   "id": "4f67fcab-edee-4572-92a7-ff3f093daf61",
   "metadata": {},
   "outputs": [],
   "source": [
    "# Save DataFrame as a text file\n",
    "#data_Senti.to_csv('preprocessed_chat.txt', sep='\\t', index=False, header=True)\n"
   ]
  },
  {
   "cell_type": "code",
   "execution_count": 47,
   "id": "afdc3eb2-1a6d-4b13-81af-acb08c3da058",
   "metadata": {},
   "outputs": [],
   "source": [
    "columns_to_keep = ['Date', 'Time', 'Name', 'Text']\n",
    "df2 = df.loc[:, df.columns.intersection(columns_to_keep)]\n"
   ]
  },
  {
   "cell_type": "code",
   "execution_count": 48,
   "id": "f4c9a3f0-1ac4-4fda-9ce1-347cdc39d51d",
   "metadata": {},
   "outputs": [
    {
     "name": "stdout",
     "output_type": "stream",
     "text": [
      "<class 'pandas.core.frame.DataFrame'>\n"
     ]
    }
   ],
   "source": [
    "print(type(df2))"
   ]
  },
  {
   "cell_type": "code",
   "execution_count": 49,
   "id": "41d2bca4-296a-4724-ae71-44e656adb06b",
   "metadata": {},
   "outputs": [
    {
     "name": "stdout",
     "output_type": "stream",
     "text": [
      "Empty DataFrame\n",
      "Columns: []\n",
      "Index: [2, 5, 6, 7, 8]\n"
     ]
    }
   ],
   "source": [
    "print(df2.head())"
   ]
  },
  {
   "cell_type": "code",
   "execution_count": 50,
   "id": "868cc99b-d7be-46d2-b6f6-afe72c20e123",
   "metadata": {},
   "outputs": [],
   "source": [
    "df.columns = df.columns.str.strip()"
   ]
  },
  {
   "cell_type": "code",
   "execution_count": 51,
   "id": "0373929f-26d1-4158-b15b-f250ca396f58",
   "metadata": {},
   "outputs": [
    {
     "name": "stdout",
     "output_type": "stream",
     "text": [
      "Actual columns in the dataset before cleaning: ['date', 'time', 'name', 'chat']\n",
      "Columns after cleaning: ['date', 'time', 'name', 'chat']\n",
      "Empty DataFrame\n",
      "Columns: []\n",
      "Index: [2, 5, 6, 7, 8]\n"
     ]
    }
   ],
   "source": [
    "import pandas as pd\n",
    "\n",
    "# Load Data\n",
    "df = pd.read_csv(\"preprocessed_chat.csv\")\n",
    "\n",
    "# Inspect actual columns before cleaning\n",
    "print(\"Actual columns in the dataset before cleaning:\", df.columns.tolist())\n",
    "\n",
    "# Clean column names: remove spaces and convert to lowercase\n",
    "df.columns = df.columns.str.strip().str.lower()\n",
    "\n",
    "# Inspect columns after cleaning to check if 'text' is present\n",
    "print(\"Columns after cleaning:\", df.columns.tolist())\n",
    "\n",
    "# Define corrected column names\n",
    "columns_to_keep = ['date', 'time', 'name', 'text']\n",
    "\n",
    "# Check for missing columns after cleaning\n",
    "#missing_columns = [col for col in columns_to_keep if col not in df.columns]\n",
    "#if missing_columns:\n",
    "    #raise KeyError(f\"Missing required columns after processing: {missing_columns}\")\n",
    "\n",
    "\n",
    "\n",
    "\n",
    "# Display first few rows\n",
    "print(df2.head())\n"
   ]
  },
  {
   "cell_type": "code",
   "execution_count": 52,
   "id": "5464c2bf-30d2-4506-bd44-2292ecd21e8a",
   "metadata": {},
   "outputs": [
    {
     "data": {
      "text/html": [
       "<div>\n",
       "<style scoped>\n",
       "    .dataframe tbody tr th:only-of-type {\n",
       "        vertical-align: middle;\n",
       "    }\n",
       "\n",
       "    .dataframe tbody tr th {\n",
       "        vertical-align: top;\n",
       "    }\n",
       "\n",
       "    .dataframe thead th {\n",
       "        text-align: right;\n",
       "    }\n",
       "</style>\n",
       "<table border=\"1\" class=\"dataframe\">\n",
       "  <thead>\n",
       "    <tr style=\"text-align: right;\">\n",
       "      <th></th>\n",
       "    </tr>\n",
       "  </thead>\n",
       "  <tbody>\n",
       "    <tr>\n",
       "      <th>2</th>\n",
       "    </tr>\n",
       "    <tr>\n",
       "      <th>5</th>\n",
       "    </tr>\n",
       "    <tr>\n",
       "      <th>6</th>\n",
       "    </tr>\n",
       "    <tr>\n",
       "      <th>7</th>\n",
       "    </tr>\n",
       "    <tr>\n",
       "      <th>8</th>\n",
       "    </tr>\n",
       "    <tr>\n",
       "      <th>...</th>\n",
       "    </tr>\n",
       "    <tr>\n",
       "      <th>4699</th>\n",
       "    </tr>\n",
       "    <tr>\n",
       "      <th>4700</th>\n",
       "    </tr>\n",
       "    <tr>\n",
       "      <th>4701</th>\n",
       "    </tr>\n",
       "    <tr>\n",
       "      <th>4702</th>\n",
       "    </tr>\n",
       "    <tr>\n",
       "      <th>4703</th>\n",
       "    </tr>\n",
       "  </tbody>\n",
       "</table>\n",
       "<p>2937 rows × 0 columns</p>\n",
       "</div>"
      ],
      "text/plain": [
       "Empty DataFrame\n",
       "Columns: []\n",
       "Index: [2, 5, 6, 7, 8, 9, 10, 11, 12, 13, 14, 15, 16, 17, 19, 20, 21, 22, 24, 25, 26, 27, 28, 29, 30, 31, 32, 33, 34, 35, 36, 37, 38, 39, 40, 41, 42, 43, 44, 45, 48, 49, 51, 52, 53, 54, 55, 56, 57, 58, 59, 60, 61, 62, 63, 64, 65, 69, 70, 73, 74, 78, 79, 80, 81, 82, 83, 84, 88, 89, 90, 91, 92, 93, 94, 95, 96, 97, 99, 100, 101, 102, 104, 106, 107, 108, 110, 111, 112, 113, 114, 115, 116, 117, 118, 120, 121, 122, 123, 124, ...]\n",
       "\n",
       "[2937 rows x 0 columns]"
      ]
     },
     "execution_count": 52,
     "metadata": {},
     "output_type": "execute_result"
    }
   ],
   "source": [
    "df2"
   ]
  },
  {
   "cell_type": "markdown",
   "id": "214ef1a1-0102-47e7-91b0-62e9b619716c",
   "metadata": {},
   "source": [
    "def flirt_analysis(messages):\n",
    "    flirt_keywords = ['love', 'babe', 'darling', 'sweetheart', 'kiss', 'cute', 'beautiful', 'sexy']\n",
    "    vectorizer = CountVectorizer(vocabulary=flirt_keywords, lowercase=True)\n",
    "    flirt_scores = vectorizer.fit_transform(messages['Text']).sum(axis=1)\n",
    "    messages['flirt_count'] = flirt_scores\n",
    "    return messages\n",
    "\n",
    "df2 = flirt_analysis(df2)\n"
   ]
  },
  {
   "cell_type": "code",
   "execution_count": 53,
   "id": "71434734-c9a2-433a-bfde-6aec4a8da61f",
   "metadata": {},
   "outputs": [
    {
     "name": "stdout",
     "output_type": "stream",
     "text": [
      "Collecting scikit-learn\n",
      "  Using cached scikit_learn-1.6.1-cp312-cp312-win_amd64.whl.metadata (15 kB)\n",
      "Requirement already satisfied: numpy>=1.19.5 in c:\\users\\hp\\anaconda3\\envs\\vnlp\\lib\\site-packages (from scikit-learn) (1.26.4)\n",
      "Collecting scipy>=1.6.0 (from scikit-learn)\n",
      "  Using cached scipy-1.15.1-cp312-cp312-win_amd64.whl.metadata (60 kB)\n",
      "Requirement already satisfied: joblib>=1.2.0 in c:\\users\\hp\\anaconda3\\envs\\vnlp\\lib\\site-packages (from scikit-learn) (1.4.2)\n",
      "Collecting threadpoolctl>=3.1.0 (from scikit-learn)\n",
      "  Using cached threadpoolctl-3.5.0-py3-none-any.whl.metadata (13 kB)\n",
      "Using cached scikit_learn-1.6.1-cp312-cp312-win_amd64.whl (11.1 MB)\n",
      "Using cached scipy-1.15.1-cp312-cp312-win_amd64.whl (43.6 MB)\n",
      "Using cached threadpoolctl-3.5.0-py3-none-any.whl (18 kB)\n",
      "Installing collected packages: threadpoolctl, scipy, scikit-learn\n",
      "Successfully installed scikit-learn-1.6.1 scipy-1.15.1 threadpoolctl-3.5.0\n",
      "Note: you may need to restart the kernel to use updated packages.\n"
     ]
    }
   ],
   "source": [
    "pip install scikit-learn\n"
   ]
  },
  {
   "cell_type": "code",
   "execution_count": 54,
   "id": "00a0cb5a-920e-4c6d-8c20-6d69f7d33d36",
   "metadata": {},
   "outputs": [
    {
     "name": "stdout",
     "output_type": "stream",
     "text": [
      "Requirement already satisfied: numpy in c:\\users\\hp\\anaconda3\\envs\\vnlp\\lib\\site-packages (1.26.4)\n"
     ]
    }
   ],
   "source": [
    "!pip install numpy\n"
   ]
  },
  {
   "cell_type": "code",
   "execution_count": 56,
   "id": "ecb813dc-ca83-40d3-a3a3-d326ab8fb828",
   "metadata": {},
   "outputs": [
    {
     "name": "stdout",
     "output_type": "stream",
     "text": [
      "Collecting package metadata (current_repodata.json): ...working... done\n",
      "Solving environment: ...working... done\n",
      "\n",
      "## Package Plan ##\n",
      "\n",
      "  environment location: C:\\Users\\hp\\anaconda3\\envs\\vnlp\n",
      "\n",
      "  added / updated specs:\n",
      "    - numpy\n",
      "\n",
      "\n",
      "The following packages will be downloaded:\n",
      "\n",
      "    package                    |            build\n",
      "    ---------------------------|-----------------\n",
      "    click-8.1.7                |  py312haa95532_0         200 KB\n",
      "    numpy-2.2.2                |  py312hfd52020_0          12 KB\n",
      "    numpy-base-2.2.2           |  py312h4dde369_0         8.7 MB\n",
      "    tqdm-4.66.5                |  py312hfc267ef_0         186 KB\n",
      "    ------------------------------------------------------------\n",
      "                                           Total:         9.1 MB\n",
      "\n",
      "The following packages will be UPDATED:\n",
      "\n",
      "  numpy                              1.26.4-py312hfd52020_0 --> 2.2.2-py312hfd52020_0 \n",
      "  numpy-base                         1.26.4-py312h4dde369_0 --> 2.2.2-py312h4dde369_0 \n",
      "\n",
      "The following packages will be SUPERSEDED by a higher-priority channel:\n",
      "\n",
      "  click              conda-forge/noarch::click-8.1.8-pyh74~ --> pkgs/main/win-64::click-8.1.7-py312haa95532_0 \n",
      "  colorama           conda-forge/noarch::colorama-0.4.6-py~ --> pkgs/main/win-64::colorama-0.4.6-py312haa95532_0 \n",
      "  joblib             conda-forge/noarch::joblib-1.4.2-pyhd~ --> pkgs/main/win-64::joblib-1.4.2-py312haa95532_0 \n",
      "  tqdm               conda-forge/noarch::tqdm-4.67.1-pyhd8~ --> pkgs/main/win-64::tqdm-4.66.5-py312hfc267ef_0 \n",
      "\n",
      "The following packages will be DOWNGRADED:\n",
      "\n",
      "  setuptools                         75.8.0-py312haa95532_0 --> 72.1.0-py312haa95532_0 \n",
      "\n",
      "\n",
      "\n",
      "Downloading and Extracting Packages\n",
      "\n",
      "click-8.1.7          | 200 KB    |            |   0% \n",
      "\n",
      "numpy-2.2.2          | 12 KB     |            |   0% \u001b[A\n",
      "\n",
      "\n",
      "numpy-base-2.2.2     | 8.7 MB    |            |   0% \u001b[A\u001b[A\n",
      "\n",
      "\n",
      "\n",
      "tqdm-4.66.5          | 186 KB    |            |   0% \u001b[A\u001b[A\u001b[A\n",
      "\n",
      "numpy-2.2.2          | 12 KB     | ########## | 100% \u001b[A\n",
      "\n",
      "\n",
      "\n",
      "tqdm-4.66.5          | 186 KB    | 8          |   9% \u001b[A\u001b[A\u001b[A\n",
      "\n",
      "\n",
      "numpy-base-2.2.2     | 8.7 MB    |            |   0% \u001b[A\u001b[A\n",
      "click-8.1.7          | 200 KB    | 8          |   8% \n",
      "\n",
      "\n",
      "\n",
      "tqdm-4.66.5          | 186 KB    | ######8    |  69% \u001b[A\u001b[A\u001b[A\n",
      "\n",
      "\n",
      "numpy-base-2.2.2     | 8.7 MB    | 1          |   1% \u001b[A\u001b[A\n",
      "click-8.1.7          | 200 KB    | ######4    |  64% \n",
      "\n",
      "\n",
      "numpy-base-2.2.2     | 8.7 MB    | 2          |   2% \u001b[A\u001b[A\n",
      "\n",
      "numpy-2.2.2          | 12 KB     | ########## | 100% \u001b[A\n",
      "\n",
      "\n",
      "numpy-base-2.2.2     | 8.7 MB    | 5          |   6% \u001b[A\u001b[A\n",
      "click-8.1.7          | 200 KB    | ########## | 100% \n",
      "click-8.1.7          | 200 KB    | ########## | 100% \n",
      "\n",
      "\n",
      "\n",
      "tqdm-4.66.5          | 186 KB    | ########## | 100% \u001b[A\u001b[A\u001b[A\n",
      "\n",
      "\n",
      "numpy-base-2.2.2     | 8.7 MB    | 7          |   8% \u001b[A\u001b[A\n",
      "\n",
      "\n",
      "numpy-base-2.2.2     | 8.7 MB    | #2         |  13% \u001b[A\u001b[A\n",
      "\n",
      "\n",
      "numpy-base-2.2.2     | 8.7 MB    | #5         |  15% \u001b[A\u001b[A\n",
      "\n",
      "\n",
      "numpy-base-2.2.2     | 8.7 MB    | #7         |  18% \u001b[A\u001b[A\n",
      "\n",
      "\n",
      "numpy-base-2.2.2     | 8.7 MB    | ##2        |  23% \u001b[A\u001b[A\n",
      "\n",
      "\n",
      "numpy-base-2.2.2     | 8.7 MB    | ##6        |  27% \u001b[A\u001b[A\n",
      "\n",
      "\n",
      "numpy-base-2.2.2     | 8.7 MB    | ###        |  30% \u001b[A\u001b[A\n",
      "\n",
      "\n",
      "numpy-base-2.2.2     | 8.7 MB    | ###3       |  34% \u001b[A\u001b[A\n",
      "\n",
      "\n",
      "numpy-base-2.2.2     | 8.7 MB    | ###6       |  37% \u001b[A\u001b[A\n",
      "\n",
      "\n",
      "numpy-base-2.2.2     | 8.7 MB    | ####       |  41% \u001b[A\u001b[A\n",
      "\n",
      "\n",
      "numpy-base-2.2.2     | 8.7 MB    | ####4      |  44% \u001b[A\u001b[A\n",
      "\n",
      "\n",
      "numpy-base-2.2.2     | 8.7 MB    | ####7      |  47% \u001b[A\u001b[A\n",
      "\n",
      "\n",
      "numpy-base-2.2.2     | 8.7 MB    | #####3     |  53% \u001b[A\u001b[A\n",
      "\n",
      "\n",
      "numpy-base-2.2.2     | 8.7 MB    | #####6     |  57% \u001b[A\u001b[A\n",
      "\n",
      "\n",
      "numpy-base-2.2.2     | 8.7 MB    | ######     |  61% \u001b[A\u001b[A\n",
      "\n",
      "\n",
      "numpy-base-2.2.2     | 8.7 MB    | ######4    |  64% \u001b[A\u001b[A\n",
      "\n",
      "\n",
      "numpy-base-2.2.2     | 8.7 MB    | ######7    |  67% \u001b[A\u001b[A\n",
      "\n",
      "\n",
      "numpy-base-2.2.2     | 8.7 MB    | #######    |  70% \u001b[A\u001b[A\n",
      "\n",
      "\n",
      "numpy-base-2.2.2     | 8.7 MB    | #######5   |  76% \u001b[A\u001b[A\n",
      "\n",
      "\n",
      "numpy-base-2.2.2     | 8.7 MB    | #######9   |  79% \u001b[A\u001b[A\n",
      "\n",
      "\n",
      "numpy-base-2.2.2     | 8.7 MB    | ########2  |  83% \u001b[A\u001b[A\n",
      "\n",
      "\n",
      "numpy-base-2.2.2     | 8.7 MB    | ########5  |  86% \u001b[A\u001b[A\n",
      "\n",
      "\n",
      "numpy-base-2.2.2     | 8.7 MB    | #########  |  91% \u001b[A\u001b[A\n",
      "\n",
      "\n",
      "numpy-base-2.2.2     | 8.7 MB    | #########6 |  96% \u001b[A\u001b[A\n",
      "\n",
      "\n",
      "numpy-base-2.2.2     | 8.7 MB    | ########## | 100% \u001b[A\u001b[A\n",
      "\n",
      "\n",
      "numpy-base-2.2.2     | 8.7 MB    | ########## | 100% \u001b[A\u001b[A\n",
      "                                                     \n",
      "\n",
      "\n",
      "                                                     \u001b[A\n",
      "\n",
      "\n",
      "                                                     \u001b[A\u001b[A\n",
      "\n",
      "\n",
      "\n",
      "                                                     \u001b[A\u001b[A\u001b[A\n",
      "\n",
      "Preparing transaction: ...working... done\n",
      "Verifying transaction: ...working... done\n",
      "Executing transaction: ...working... done\n",
      "\n",
      "Note: you may need to restart the kernel to use updated packages.\n"
     ]
    },
    {
     "name": "stderr",
     "output_type": "stream",
     "text": [
      "DEBUG:urllib3.connectionpool:Starting new HTTPS connection (1): repo.anaconda.com:443\n",
      "DEBUG:urllib3.connectionpool:Starting new HTTPS connection (1): repo.anaconda.com:443\n",
      "DEBUG:urllib3.connectionpool:Starting new HTTPS connection (1): repo.anaconda.com:443\n",
      "DEBUG:urllib3.connectionpool:Starting new HTTPS connection (1): repo.anaconda.com:443\n",
      "DEBUG:urllib3.connectionpool:Starting new HTTPS connection (1): repo.anaconda.com:443\n",
      "DEBUG:urllib3.connectionpool:Starting new HTTPS connection (1): repo.anaconda.com:443\n",
      "DEBUG:urllib3.connectionpool:https://repo.anaconda.com:443 \"GET /pkgs/msys2/noarch/current_repodata.json HTTP/1.1\" 304 0\n",
      "DEBUG:urllib3.connectionpool:https://repo.anaconda.com:443 \"GET /pkgs/main/noarch/current_repodata.json HTTP/1.1\" 304 0\n",
      "DEBUG:urllib3.connectionpool:https://repo.anaconda.com:443 \"GET /pkgs/r/noarch/current_repodata.json HTTP/1.1\" 304 0\n",
      "DEBUG:urllib3.connectionpool:https://repo.anaconda.com:443 \"GET /pkgs/main/win-64/current_repodata.json HTTP/1.1\" 304 0\n",
      "DEBUG:urllib3.connectionpool:https://repo.anaconda.com:443 \"GET /pkgs/r/win-64/current_repodata.json HTTP/1.1\" 304 0\n",
      "DEBUG:urllib3.connectionpool:https://repo.anaconda.com:443 \"GET /pkgs/msys2/win-64/current_repodata.json HTTP/1.1\" 304 0\n",
      "\n",
      "\n",
      "==> WARNING: A newer version of conda exists. <==\n",
      "  current version: 23.7.4\n",
      "  latest version: 25.1.1\n",
      "\n",
      "Please update conda by running\n",
      "\n",
      "    $ conda update -n base -c defaults conda\n",
      "\n",
      "Or to minimize the number of packages updated during conda update use\n",
      "\n",
      "     conda install conda=25.1.1\n",
      "\n",
      "\n",
      "DEBUG:urllib3.connectionpool:Starting new HTTPS connection (1): repo.anaconda.com:443\n",
      "DEBUG:urllib3.connectionpool:Starting new HTTPS connection (1): repo.anaconda.com:443\n",
      "DEBUG:urllib3.connectionpool:Starting new HTTPS connection (1): repo.anaconda.com:443\n",
      "DEBUG:urllib3.connectionpool:Starting new HTTPS connection (1): repo.anaconda.com:443\n",
      "DEBUG:urllib3.connectionpool:https://repo.anaconda.com:443 \"GET /pkgs/main/win-64/numpy-2.2.2-py312hfd52020_0.conda HTTP/1.1\" 200 12287\n",
      "DEBUG:urllib3.connectionpool:https://repo.anaconda.com:443 \"GET /pkgs/main/win-64/tqdm-4.66.5-py312hfc267ef_0.conda HTTP/1.1\" 200 190528\n",
      "DEBUG:urllib3.connectionpool:https://repo.anaconda.com:443 \"GET /pkgs/main/win-64/numpy-base-2.2.2-py312h4dde369_0.conda HTTP/1.1\" 200 9163811\n",
      "DEBUG:urllib3.connectionpool:https://repo.anaconda.com:443 \"GET /pkgs/main/win-64/click-8.1.7-py312haa95532_0.conda HTTP/1.1\" 200 204524\n"
     ]
    }
   ],
   "source": [
    "conda update numpy"
   ]
  },
  {
   "cell_type": "code",
   "execution_count": null,
   "id": "ca71d56e-8494-4599-b271-fc2053c7897c",
   "metadata": {},
   "outputs": [],
   "source": [
    "#!pip install scikit-learn==0.24.2"
   ]
  },
  {
   "cell_type": "code",
   "execution_count": 58,
   "id": "1a3a153c-bcab-4c48-a182-5b6b28b26cb4",
   "metadata": {},
   "outputs": [
    {
     "name": "stdout",
     "output_type": "stream",
     "text": [
      "                         text  flirt_count\n",
      "0                  I love you            1\n",
      "1      Hey babe, how are you?            1\n",
      "2         You look beautiful!            1\n",
      "3  Sweetheart, where are you?            1\n"
     ]
    }
   ],
   "source": [
    "from sklearn.feature_extraction.text import CountVectorizer\n",
    "import pandas as pd\n",
    "\n",
    "def flirt_analysis(messages):\n",
    "    flirt_keywords = ['love', 'babe', 'darling', 'sweetheart', 'kiss', 'cute', 'beautiful', 'sexy']\n",
    "    vectorizer = CountVectorizer(vocabulary=flirt_keywords, lowercase=True)\n",
    "    \n",
    "    # Transform the text data\n",
    "    flirt_scores = vectorizer.transform(messages['text']).toarray().sum(axis=1)\n",
    "    \n",
    "    # Assign flirt_scores as a new column\n",
    "    messages['flirt_count'] = flirt_scores\n",
    "    return messages\n",
    "\n",
    "# Example DataFrame (replace this with your actual DataFrame)\n",
    "data = {'text': ['I love you', 'Hey babe, how are you?', 'You look beautiful!', 'Sweetheart, where are you?']}\n",
    "df = pd.DataFrame(data)\n",
    "\n",
    "# Initialize the vectorizer first\n",
    "vectorizer = CountVectorizer(vocabulary=['love', 'babe', 'darling', 'sweetheart', 'kiss', 'cute', 'beautiful', 'sexy'], lowercase=True)\n",
    "vectorizer.fit(df['text'])  # Fit the vectorizer\n",
    "\n",
    "# Applying the analysis\n",
    "df = flirt_analysis(df)\n",
    "\n",
    "# Displaying the updated DataFrame with flirt count\n",
    "print(df)"
   ]
  },
  {
   "cell_type": "code",
   "execution_count": 59,
   "id": "9d6be0a5-33dc-44c8-87ba-c75041c242e3",
   "metadata": {},
   "outputs": [
    {
     "name": "stdout",
     "output_type": "stream",
     "text": [
      "numpy version: 2.2.2\n",
      "scikit-learn version: 1.6.1\n"
     ]
    }
   ],
   "source": [
    "import numpy as np\n",
    "import sklearn\n",
    "\n",
    "print(\"numpy version:\", np.__version__)\n",
    "print(\"scikit-learn version:\", sklearn.__version__)\n"
   ]
  },
  {
   "cell_type": "code",
   "execution_count": 64,
   "id": "a212fcea-e2de-46c1-a06a-08a22aa8112a",
   "metadata": {},
   "outputs": [
    {
     "name": "stdout",
     "output_type": "stream",
     "text": [
      "The least talkative person is: I love you\n"
     ]
    }
   ],
   "source": [
    "# Assuming df2 is your DataFrame containing the 'name' column\n",
    "talkative_counts = df['text'].value_counts()\n",
    "less_talkative = talkative_counts.idxmin()\n",
    "\n",
    "print(\"The least talkative person is:\", less_talkative)"
   ]
  },
  {
   "cell_type": "code",
   "execution_count": 68,
   "id": "15cfb266-3760-4e7c-a144-c976c6e55cdd",
   "metadata": {},
   "outputs": [],
   "source": [
    "# Define most_active_date somewhere in your code\n",
    "most_active_date = '2025-01-31'\n"
   ]
  },
  {
   "cell_type": "code",
   "execution_count": 73,
   "id": "581cca1f-aa46-47ee-af13-ab5c8db7d086",
   "metadata": {},
   "outputs": [],
   "source": [
    "# Example definitions (replace with your actual variables)\n",
    "most_active_hour = \"15:00\"\n",
    "media_count = {\"photos\": 20, \"videos\": 10}\n",
    "missed_calls = 5"
   ]
  },
  {
   "cell_type": "code",
   "execution_count": 74,
   "id": "6d8ed46b-73f7-4434-9810-d7e352bc95b7",
   "metadata": {},
   "outputs": [
    {
     "name": "stdout",
     "output_type": "stream",
     "text": [
      "Flirt Messages:\n",
      "                          text  flirt_count\n",
      "0                  I love you            1\n",
      "1      Hey babe, how are you?            1\n",
      "2         You look beautiful!            1\n",
      "3  Sweetheart, where are you?            1\n",
      "Less Talkative User: I love you\n",
      "Most Active Date: 2025-01-31\n",
      "Most Active Hour: 15:00\n",
      "Media Count:\n",
      " {'photos': 20, 'videos': 10}\n",
      "Missed Calls Count: 5\n"
     ]
    }
   ],
   "source": [
    "print(\"Flirt Messages:\\n\", df[df['flirt_count'] > 0])\n",
    "print(\"Less Talkative User:\", less_talkative)\n",
    "print(\"Most Active Date:\", most_active_date)\n",
    "print(\"Most Active Hour:\", most_active_hour)\n",
    "print(\"Media Count:\\n\", media_count)\n",
    "print(\"Missed Calls Count:\", missed_calls)\n",
    "\n"
   ]
  },
  {
   "cell_type": "code",
   "execution_count": null,
   "id": "3c61918a-530e-43ce-9f35-436ce6cbcfa3",
   "metadata": {},
   "outputs": [],
   "source": []
  }
 ],
 "metadata": {
  "kernelspec": {
   "display_name": "Python 3 (ipykernel)",
   "language": "python",
   "name": "python3"
  },
  "language_info": {
   "codemirror_mode": {
    "name": "ipython",
    "version": 3
   },
   "file_extension": ".py",
   "mimetype": "text/x-python",
   "name": "python",
   "nbconvert_exporter": "python",
   "pygments_lexer": "ipython3",
   "version": "3.12.8"
  }
 },
 "nbformat": 4,
 "nbformat_minor": 5
}
